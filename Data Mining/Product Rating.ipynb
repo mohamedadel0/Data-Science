{
 "cells": [
  {
   "cell_type": "markdown",
   "metadata": {},
   "source": [
    "## Product Rating Prediction\n",
    "\n",
    "# Table Of Content\n",
    "\n",
    "- [q1. The problem. What is the input? What is the output?](#q1)\n",
    "- [q2. What data mining function is required?](#q2)\n",
    "- [q3 .What could be the challenges?](#q3)\n",
    "- [q4.  What is the impact?](#q4)\n",
    "- [q5. What is an ideal solution?](#q5)\n",
    "- [q6. Why Data Mining is a misnomer? What is another preferred name?](#q6)\n",
    "- [q7. What is the general knowledge discovery process? What is the difference between a data engineer and data scientist/AI engineer?](#q7)\n",
    "- [q8. In data mining, what is the difference between prediction and categorization?](#q8)\n",
    "- [q9. Why data science/machine learning is a bad idea in the context of information security?](#q9)\n",
    "- [q10. What is CIA principle and how can we use it to access the security/privacy aspect of the AI system/pipelines?](#q10)\n",
    "- [1. Taking a look at the data](#look)\n",
    "- [2. Feature Engineering](#Feature)\n",
    "    - [2.1 Chi Squre Test and correlation](#correlation)\n",
    "    - [2.2 Feature Selection](#selection)\n",
    "    - [2.3 Feature Extraction](#extraction)\n",
    "    - [2.4 Important Conclusion In Feature Engineering](#fc)\n",
    "    - [2.5 Handling missing and incorrect values](#missing)\n",
    "    \n",
    "- [3. which model should be tried?](#which)\n",
    "- [4. Modelling](#modelling)\n",
    "    - [4.1 Random Forest no.1](#forest1)\n",
    "    - [4.2 Decision Tree no.1](#decision1)\n",
    "    - [4.3 SVC no.1](#svc1)\n",
    "    - [4.4 naive bayes no.1](#naive1)\n",
    "    - [4.5 Random Forest no.2](#forest2)\n",
    "    - [4.6 Decision Tree no.2](#decision2)\n",
    "    - [4.7 SVC no.2](#svc2)\n",
    "    - [4.8 naive bayes no.2](#naive2)\n",
    "    - [4.9 Random Forest no.3](#forest3)\n",
    "    - [4.10 Decision Tree no.3](#decision3)\n",
    "    - [4.11 SVC no.3](#svc3)\n",
    "    - [4.12 naive bayes no.3](#naive3)\n",
    "    - [4.9 Random Forest no.4](#forest4)\n",
    "    - [4.10 Decision Tree no.4](#decision4)\n",
    "    - [4.11 SVC no.4](#svc4)\n",
    "    - [4.12 naive bayes no.4](#naive4)\n",
    "- [5. Conclusion](#con)\n",
    "- [6.References](#ref)"
   ]
  },
  {
   "cell_type": "markdown",
   "metadata": {},
   "source": [
    "<a id='q1'></a>\n",
    "## q1. The problem? What is the input? What is the output?"
   ]
  },
  {
   "cell_type": "markdown",
   "metadata": {},
   "source": [
    "- The problem is to predict the product ratings of Wish.com products. The input is some observations of the made ratings of products such as price, product color, country, merchant name and so on. The output is product rating from 1 to 5. The goal is to predict how likely people will like a product and give a high rate.\n"
   ]
  },
  {
   "cell_type": "markdown",
   "metadata": {},
   "source": [
    "<a id='q2'></a>\n",
    "## q2. What data mining function is required?"
   ]
  },
  {
   "cell_type": "markdown",
   "metadata": {},
   "source": [
    "- Hence the rating which the target variable is a categoral variable so the data mining function is classification."
   ]
  },
  {
   "cell_type": "markdown",
   "metadata": {},
   "source": [
    "<a id='q3'></a>\n",
    "## q3 .What could be the challenges?"
   ]
  },
  {
   "cell_type": "markdown",
   "metadata": {},
   "source": [
    "- The challenges could be irrelevan features, noisy data, incorrect values, missing values. the features may not be enough for the model to get better result and the data not enough to get confidence result.\n"
   ]
  },
  {
   "cell_type": "markdown",
   "metadata": {},
   "source": [
    "<a id='q4'></a>\n",
    "## q4. What is the impact?"
   ]
  },
  {
   "cell_type": "markdown",
   "metadata": {},
   "source": [
    "- figuring out what makes some products get high rating\n",
    "- figuring out what are most features that impact product rating\n",
    "- understanding customer perferences\n",
    "- predicting if some products will get a low or high ratings so they gonna sort it on the website based on that"
   ]
  },
  {
   "cell_type": "markdown",
   "metadata": {},
   "source": [
    "<a id='q5'></a>\n",
    "## q5. What is an ideal solution?"
   ]
  },
  {
   "cell_type": "markdown",
   "metadata": {},
   "source": [
    "- the solution may be to check which features have the highest impact on the product rating then handle them checking their missing, incorrect or irrelevant values and trying to solve them then do machine learning model with those features  "
   ]
  },
  {
   "cell_type": "markdown",
   "metadata": {},
   "source": [
    "<a id='q6'></a>\n",
    "## q6. Why Data Mining is a misnomer? What is another preferred name?"
   ]
  },
  {
   "cell_type": "markdown",
   "metadata": {},
   "source": [
    "- The term \"data mining\" is a misnomer because the goal is the extraction of patterns and knowledge from large amounts of data, not the extraction (mining) of data itself. another preferred name is knowledge discovery in data"
   ]
  },
  {
   "cell_type": "markdown",
   "metadata": {},
   "source": [
    "<a id='q7'></a>\n",
    "## q7. What is the general knowledge discovery process? What is the difference between a data engineer and data scientist/AI engineer?"
   ]
  },
  {
   "cell_type": "markdown",
   "metadata": {},
   "source": [
    "0 The knowledge discovery process, also called knowledge discovery in databases, seeks new knowledge in some application domain. It is defined as the nontrivial process of identifying valid, novel, potentially useful, and ultimately understandable patterns in data."
   ]
  },
  {
   "cell_type": "markdown",
   "metadata": {},
   "source": [
    "## What is the difference between a data engineer and data scientist/AI engineer?"
   ]
  },
  {
   "cell_type": "markdown",
   "metadata": {},
   "source": [
    "- Data engineer: is someone who develops, constructs, tests and maintains architectures, such as databases and large-scale processing systems. The data scientist, on the other hand, is someone who cleans, massages, and organizes big data.\n",
    "- Data scientist: will usually already get data that has passed a first round of cleaning and manipulation, which they can use to feed to sophisticated analytics programs and machine learning and statistical methods to prepare data for use in predictive and prescriptive modeling."
   ]
  },
  {
   "cell_type": "markdown",
   "metadata": {},
   "source": [
    "<a id='q8'></a>\n",
    "## q8. In data mining, what is the difference between prediction and categorization?"
   ]
  },
  {
   "cell_type": "markdown",
   "metadata": {},
   "source": [
    "- Categorization: is the process of finding a good model that describes the data classes or concepts, and the purpose of classification is to predict the class of objects whose class label is unknown.\n",
    "\n",
    "- Prediction: is like something that may go to happen in the future. And just like that in prediction, we identify or predict the missing or unavailable data for a new observation based on the previous data that we have and based on the future assumptions. In prediction, the output is a continuous value."
   ]
  },
  {
   "cell_type": "markdown",
   "metadata": {},
   "source": [
    "<a id='q9'></a>\n",
    "## q9. Why data science/machine learning is a bad idea in the context of information security?"
   ]
  },
  {
   "cell_type": "markdown",
   "metadata": {},
   "source": [
    "- Existing security data may be considered sensitive material, so teams might have to get creative when finding data to train machine learning algorithms."
   ]
  },
  {
   "cell_type": "markdown",
   "metadata": {},
   "source": [
    "## q10. What is CIA principle and how can we use it to access the security/privacy aspect of the AI system/pipelines?"
   ]
  },
  {
   "cell_type": "markdown",
   "metadata": {},
   "source": [
    "- The CIA principle is a security model that stands for Confidentiality, Integrity, and Availability. It is used to guide security measures, controls, and overall strategy.\n",
    "\n",
    "- When it comes to AI systems/pipelines, privacy is an important aspect that needs to be considered. The principles of trustworthy AI like transparency and explainability, fairness and non-discrimination, human oversight, robustness and security of data processing can regularly be related to specific individual rights and provisions of corresponding privacy laws."
   ]
  },
  {
   "cell_type": "code",
   "execution_count": 183,
   "metadata": {},
   "outputs": [],
   "source": [
    "# importing labarieries\n",
    "import numpy as np\n",
    "import pandas as pd\n",
    "import seaborn as sns\n",
    "from sklearn.metrics import classification_report\n",
    "from sklearn.svm import SVC\n",
    "from scipy.stats import chi2_contingency\n",
    "from sklearn.model_selection import train_test_split\n",
    "from sklearn.ensemble import RandomForestClassifier\n",
    "from sklearn.metrics import f1_score, make_scorer\n",
    "from sklearn.tree import DecisionTreeClassifier\n",
    "from sklearn.model_selection import GridSearchCV\n",
    "from sklearn.svm import SVC\n",
    "import matplotlib.pyplot as plt\n",
    "%matplotlib inline"
   ]
  },
  {
   "cell_type": "code",
   "execution_count": 184,
   "metadata": {},
   "outputs": [],
   "source": [
    "df = pd.read_csv('train_new.csv') # reading the training data"
   ]
  },
  {
   "cell_type": "markdown",
   "metadata": {},
   "source": [
    "<a id='look'></a>\n",
    "## 1. Taking a look at the data and its columns values"
   ]
  },
  {
   "cell_type": "code",
   "execution_count": 185,
   "metadata": {},
   "outputs": [
    {
     "data": {
      "text/html": [
       "<div>\n",
       "<style scoped>\n",
       "    .dataframe tbody tr th:only-of-type {\n",
       "        vertical-align: middle;\n",
       "    }\n",
       "\n",
       "    .dataframe tbody tr th {\n",
       "        vertical-align: top;\n",
       "    }\n",
       "\n",
       "    .dataframe thead th {\n",
       "        text-align: right;\n",
       "    }\n",
       "</style>\n",
       "<table border=\"1\" class=\"dataframe\">\n",
       "  <thead>\n",
       "    <tr style=\"text-align: right;\">\n",
       "      <th></th>\n",
       "      <th>price</th>\n",
       "      <th>retail_price</th>\n",
       "      <th>currency_buyer</th>\n",
       "      <th>units_sold</th>\n",
       "      <th>uses_ad_boosts</th>\n",
       "      <th>rating</th>\n",
       "      <th>rating_count</th>\n",
       "      <th>badges_count</th>\n",
       "      <th>badge_local_product</th>\n",
       "      <th>badge_product_quality</th>\n",
       "      <th>...</th>\n",
       "      <th>merchant_name</th>\n",
       "      <th>merchant_info_subtitle</th>\n",
       "      <th>merchant_rating_count</th>\n",
       "      <th>merchant_rating</th>\n",
       "      <th>merchant_id</th>\n",
       "      <th>merchant_has_profile_picture</th>\n",
       "      <th>merchant_profile_picture</th>\n",
       "      <th>theme</th>\n",
       "      <th>crawl_month</th>\n",
       "      <th>id</th>\n",
       "    </tr>\n",
       "  </thead>\n",
       "  <tbody>\n",
       "    <tr>\n",
       "      <th>971</th>\n",
       "      <td>49.0</td>\n",
       "      <td>42</td>\n",
       "      <td>EUR</td>\n",
       "      <td>100</td>\n",
       "      <td>0</td>\n",
       "      <td>6.0</td>\n",
       "      <td>6</td>\n",
       "      <td>1</td>\n",
       "      <td>0</td>\n",
       "      <td>0</td>\n",
       "      <td>...</td>\n",
       "      <td>yanfenglivingmuseum</td>\n",
       "      <td>90 % avis positifs (29,977 notes)</td>\n",
       "      <td>29977</td>\n",
       "      <td>4.223138</td>\n",
       "      <td>5925555b2cd9447854443c41</td>\n",
       "      <td>0</td>\n",
       "      <td>NaN</td>\n",
       "      <td>summer</td>\n",
       "      <td>2020-08</td>\n",
       "      <td>118</td>\n",
       "    </tr>\n",
       "  </tbody>\n",
       "</table>\n",
       "<p>1 rows × 34 columns</p>\n",
       "</div>"
      ],
      "text/plain": [
       "     price  retail_price currency_buyer  units_sold  uses_ad_boosts  rating  \\\n",
       "971   49.0            42            EUR         100               0     6.0   \n",
       "\n",
       "     rating_count  badges_count  badge_local_product  badge_product_quality  \\\n",
       "971             6             1                    0                      0   \n",
       "\n",
       "     ...        merchant_name             merchant_info_subtitle  \\\n",
       "971  ...  yanfenglivingmuseum  90 % avis positifs (29,977 notes)   \n",
       "\n",
       "    merchant_rating_count merchant_rating               merchant_id  \\\n",
       "971                 29977        4.223138  5925555b2cd9447854443c41   \n",
       "\n",
       "    merchant_has_profile_picture  merchant_profile_picture   theme  \\\n",
       "971                            0                       NaN  summer   \n",
       "\n",
       "     crawl_month   id  \n",
       "971      2020-08  118  \n",
       "\n",
       "[1 rows x 34 columns]"
      ]
     },
     "execution_count": 185,
     "metadata": {},
     "output_type": "execute_result"
    }
   ],
   "source": [
    "df[df['rating'] == 6] # getting records have rating 6"
   ]
  },
  {
   "cell_type": "markdown",
   "metadata": {},
   "source": [
    "- we can see that there is only one record that has rate 6 so we gonna drop it"
   ]
  },
  {
   "cell_type": "code",
   "execution_count": 186,
   "metadata": {},
   "outputs": [],
   "source": [
    "# df['merchant_rating'] = df['merchant_rating'].apply(np.floor)\n",
    "df = df[df['rating'] < 6] # removing records which have rate 6"
   ]
  },
  {
   "cell_type": "code",
   "execution_count": 187,
   "metadata": {},
   "outputs": [
    {
     "name": "stdout",
     "output_type": "stream",
     "text": [
      "<class 'pandas.core.frame.DataFrame'>\n",
      "Int64Index: 1093 entries, 0 to 1093\n",
      "Data columns (total 34 columns):\n",
      " #   Column                        Non-Null Count  Dtype  \n",
      "---  ------                        --------------  -----  \n",
      " 0   price                         1093 non-null   float64\n",
      " 1   retail_price                  1093 non-null   int64  \n",
      " 2   currency_buyer                1093 non-null   object \n",
      " 3   units_sold                    1093 non-null   int64  \n",
      " 4   uses_ad_boosts                1093 non-null   int64  \n",
      " 5   rating                        1093 non-null   float64\n",
      " 6   rating_count                  1093 non-null   int64  \n",
      " 7   badges_count                  1093 non-null   int64  \n",
      " 8   badge_local_product           1093 non-null   int64  \n",
      " 9   badge_product_quality         1093 non-null   int64  \n",
      " 10  badge_fast_shipping           1093 non-null   int64  \n",
      " 11  tags                          1093 non-null   object \n",
      " 12  product_color                 1064 non-null   object \n",
      " 13  product_variation_size_id     1081 non-null   object \n",
      " 14  product_variation_inventory   1093 non-null   int64  \n",
      " 15  shipping_option_name          1093 non-null   object \n",
      " 16  shipping_option_price         1093 non-null   int64  \n",
      " 17  shipping_is_express           1093 non-null   int64  \n",
      " 18  countries_shipped_to          1093 non-null   int64  \n",
      " 19  inventory_total               1093 non-null   int64  \n",
      " 20  has_urgency_banner            349 non-null    float64\n",
      " 21  urgency_text                  349 non-null    object \n",
      " 22  origin_country                1081 non-null   object \n",
      " 23  merchant_title                1093 non-null   object \n",
      " 24  merchant_name                 1089 non-null   object \n",
      " 25  merchant_info_subtitle        1093 non-null   object \n",
      " 26  merchant_rating_count         1093 non-null   int64  \n",
      " 27  merchant_rating               1093 non-null   float64\n",
      " 28  merchant_id                   1093 non-null   object \n",
      " 29  merchant_has_profile_picture  1093 non-null   int64  \n",
      " 30  merchant_profile_picture      170 non-null    object \n",
      " 31  theme                         1093 non-null   object \n",
      " 32  crawl_month                   1093 non-null   object \n",
      " 33  id                            1093 non-null   int64  \n",
      "dtypes: float64(4), int64(16), object(14)\n",
      "memory usage: 298.9+ KB\n"
     ]
    }
   ],
   "source": [
    "df.info() # showing dataframe info"
   ]
  },
  {
   "cell_type": "code",
   "execution_count": 188,
   "metadata": {},
   "outputs": [
    {
     "name": "stdout",
     "output_type": "stream",
     "text": [
      "price: \n",
      "[ 8.    6.    4.67 14.    3.67  9.   19.   12.    5.74 13.   11.   18.\n",
      "  5.    2.   15.    3.    5.91  1.72  7.    3.81]\n",
      "--------------------------------------------\n",
      "\n",
      "\n",
      "\n",
      "retail_price: \n",
      "[ 7 34  4 11 51  9  8 21  5 10 16 15  6 38  2 13  3 87 17 26]\n",
      "--------------------------------------------\n",
      "\n",
      "\n",
      "\n",
      "currency_buyer: \n",
      "['EUR']\n",
      "--------------------------------------------\n",
      "\n",
      "\n",
      "\n",
      "units_sold: \n",
      "[ 10000   1000    100   5000     50  20000     10      8  50000      2\n",
      "      7      1 100000]\n",
      "--------------------------------------------\n",
      "\n",
      "\n",
      "\n",
      "uses_ad_boosts: \n",
      "[1 0]\n",
      "--------------------------------------------\n",
      "\n",
      "\n",
      "\n",
      "rating: \n",
      "[4. 3. 5. 2. 1.]\n",
      "--------------------------------------------\n",
      "\n",
      "\n",
      "\n",
      "rating_count: \n",
      "[1670  843   10   82  127   36  510    6  761 1561   50 2366 4378 3648\n",
      "  477   55  506    2   81    4]\n",
      "--------------------------------------------\n",
      "\n",
      "\n",
      "\n",
      "badges_count: \n",
      "[0 1 2 3]\n",
      "--------------------------------------------\n",
      "\n",
      "\n",
      "\n",
      "badge_local_product: \n",
      "[0 1]\n",
      "--------------------------------------------\n",
      "\n",
      "\n",
      "\n",
      "badge_product_quality: \n",
      "[0 1]\n",
      "--------------------------------------------\n",
      "\n",
      "\n",
      "\n",
      "badge_fast_shipping: \n",
      "[0 1]\n",
      "--------------------------------------------\n",
      "\n",
      "\n",
      "\n",
      "tags: \n",
      "[\"Summer,soildcolor,Plus Size,Tank,camisole,Tops,Loose,tank top,Women's Fashion,Fashion,sleeveless tops,sleeveless,Women,Lace,Casual,summerampspring\"\n",
      " \"bathing suit,Plus Size,bikini set,sexy swimsuit,sexy bikini,paddedfringetasselbikinibeachswimwear,Swimwear,padded,Women's Fashion,Fashion,sexy,fashiondesign,high waist,Tassels,Waist,beach wear,Swimsuit,Bikini,splitswimsuit,Women,Monokini Swimsuits,Swimming\"\n",
      " \"Summer,Vest,momshirt,Get,summer t-shirts,funnytop,tank top,Tops,Women's Fashion,Fashion,yoga top,Casual,Women,blouse,Funny,Tank,Shirt,graphic tee,sleevelessblouse,sportsamprecreation,gymwear,sleeveless,casualblouse\"\n",
      " \"Summer,Shorts,pants,Beach,Plus Size,beachpant,Short pants,pantsformen,Men's Fashion,trousers,Men's pants,Men Shorts,mens Trousers,Fashion,Casual,Men\"\n",
      " \"Summer,Floral print,women dresses,fashion dress,Dress,beach dress,Floral dress,Print,slingdre,Sleeveless dress,Lace Up,V-neck,print dress,Floral,sleeveless,V-neck Dresses,Beach,Women's Fashion,Casual,Women\"\n",
      " 'Summer,Shorts,Shirt,Sleeve,sportsset,short sleeves,Two piece set,Round neck,Ladies,women shorts,Fashion,women t shirt,Casual,Print,tracksuitsforwomen,runningset,Necks'\n",
      " \"Lace Up,lacelingerieset,Lace,lowwaistunderwear,hollowoutlingerie,Waist,florallingerie,halterlingerieset,Women's Fashion,Bikini,Lingerie,women lingerie,Lingerie Sets,sexy,sexy lace,Bikini Lingerie,Women,sexy lingerie,laceuplingerie\"\n",
      " \"Summer,Fashion,Mini,Dress,slim,short sleeves,Mini dress,Women's Fashion,printed,sexy,Women Party Dress,Skirts,Cotton,slim dress,Shorts,Sleeve,summer dress,women's dress,mini skirt,Print,Short Sleeved,blousedre\"\n",
      " \"Summer,Funny T Shirt,Graphic T-Shirt,letter print,cute,shortsleevestee,T Shirts,Plus Size,printed,summer tops,Women Fashion,Women,Funny,Shorts,Shirt,Pure Color,casualteeshirt,Women's Fashion,Round neck,Necks,print t-shirt,Print,o-neck,tops for women\"\n",
      " 'men jeans,Fashion,Summer,rippedjean,slim,croppedjean,mensummerjean,2014menshort,Men Shorts,zippers,Jeans,trousers,summerjean,Shorts,causaljean,rippedshort,2014summermenshort'\n",
      " \"Summer,Plus Size,long dress,Tops,Loose,V-neck,Casual,Women's Fashion,printed,summer dress,Dress,Women Fashion,Women\"\n",
      " \"Summer,Fashion,Necks,Skirts,Dress,Loose,Women's Fashion,Round neck,beach dress,sleeveless,black dress,Beach,Casual,Women\"\n",
      " \"bohemia,Shorts,Deep V-neck Dress,long dress,Rose,Dress,boho,highsplitdre,Women's Fashion,flowerprinteddre,printed,party,Maxi Dresses,Beach,Casual\"\n",
      " 'sleeve v-neck,Summer,Shorts,Sleeve,zippers,studentsstyle,slim,short sleeves,V-neck,bodycon,Summer Fashion,contrastcolor,Body Suit,women Jumpsuit,jumpsuit,Slim Fit'\n",
      " \"Women's Fashion,dressforwomen,Cocktail,Summer,Dresses,Dress,summer dress,Polkas,boho,beach dress,Party Dress,party,women dress,Beach,polka dot,Women\"\n",
      " \"bohemia,sleeveless,Shorts,Rose,long dress,Vintage,Dress,boho,Women's Fashion,Fashion,printed,maxi dress,jumpsuit,women dress,Women,Beach,Vintage dress\"\n",
      " \"Summer,Vest,Plus Size,Floral print,camisole,Loose,Round neck,Print,Women's Fashion,Fashion,Floral,sleeveless,Casual,Necks\"\n",
      " \"Summer,Fashion,pants,widelegpant,Women's Fashion,trousers,solid color,Wool,Casual,Women\"\n",
      " \"blouse,Summer,Plus Size,Tops & Blouses,Lace,Tank,Tops,topsamptshirt,tank top,Women's Fashion,Fashion,Loose,topsampblouse,Print,sleeveless,sexy,Women,Casual,Cotton\"\n",
      " \"Summer,Shorts,shortsleeveset,mensjoggersuit,summersuitset,summersportssuit,jogging suit,Outfits & Sets,Sport Suits,mentracksuit,men's suits,Sports Wear\"]\n",
      "--------------------------------------------\n",
      "\n",
      "\n",
      "\n",
      "product_color: \n",
      "['yellow' 'black' 'white' 'lakeblue' 'apricot' 'brown' 'winered' 'blue'\n",
      " 'red' 'navyblue' 'green' 'khaki' 'White' 'white & green' 'multicolor'\n",
      " 'lightpink' 'pink' 'RED' 'armygreen' 'lightblue']\n",
      "--------------------------------------------\n",
      "\n",
      "\n",
      "\n",
      "product_variation_size_id: \n",
      "['M' 'L' 'XS' 'S' 'XL' '26(Waist 72cm 28inch)' 'S.' 'S(bust 88cm)' 'XXS'\n",
      " 's' '29' nan 'choose a size' 'XXXS' 'Base Coat' 'Size M' 'XXL' 'M.' 'XS.'\n",
      " '100 x 100cm(39.3 x 39.3inch)']\n",
      "--------------------------------------------\n",
      "\n",
      "\n",
      "\n",
      "product_variation_inventory: \n",
      "[50  5 15 20  1 23  2  7 17  9 35 34  3 41  4  8 11 10 45 13]\n",
      "--------------------------------------------\n",
      "\n",
      "\n",
      "\n",
      "shipping_option_name: \n",
      "['Livraison standard' 'Standard Shipping' 'الشحن القياسي'\n",
      " 'Expediere Standard' 'Envío normal' 'Standardowa wysyłka' 'Envio Padrão'\n",
      " 'Standardversand' 'Spedizione standard' 'Standart Gönderi'\n",
      " 'Livraison Express' 'ការដឹកជញ្ជូនតាមស្តង់ដារ' 'Стандартная доставка']\n",
      "--------------------------------------------\n",
      "\n",
      "\n",
      "\n",
      "shipping_option_price: \n",
      "[3 2 1 4 6 5 7]\n",
      "--------------------------------------------\n",
      "\n",
      "\n",
      "\n",
      "shipping_is_express: \n",
      "[0 1]\n",
      "--------------------------------------------\n",
      "\n",
      "\n",
      "\n",
      "countries_shipped_to: \n",
      "[ 30  37  41  25  15  42 111  55  40  31  50  43  39  27  33  24  35  36\n",
      "  23  38]\n",
      "--------------------------------------------\n",
      "\n",
      "\n",
      "\n",
      "inventory_total: \n",
      "[50  1  9 37 36]\n",
      "--------------------------------------------\n",
      "\n",
      "\n",
      "\n",
      "has_urgency_banner: \n",
      "[nan  1.]\n",
      "--------------------------------------------\n",
      "\n",
      "\n",
      "\n",
      "urgency_text: \n",
      "[nan 'Quantité limitée !' 'Réduction sur les achats en gros']\n",
      "--------------------------------------------\n",
      "\n",
      "\n",
      "\n",
      "origin_country: \n",
      "['CN' 'US' 'GB' nan 'SG' 'VE']\n",
      "--------------------------------------------\n",
      "\n",
      "\n",
      "\n",
      "merchant_title: \n",
      "['keepahorse' 'shanghaimingqidianqikejiyouxiangongsi' 'zhaodongmei'\n",
      " 'pookie0331' 'shitongyi12683626' 'pashesa' 'bestwsih4u'\n",
      " 'xiakeliuxingfushi' 'Lees Closet' 'ailla clothing' 'dududustore'\n",
      " 'redisland' 'Fancykini Wardrobe' 'TopLifeYouNeed' 'Jun U Near Store'\n",
      " 'huanjun411' 'hzxuch' 'zufanqiudinli' 'hellohorse' 'zengdaitao']\n",
      "--------------------------------------------\n",
      "\n",
      "\n",
      "\n",
      "merchant_name: \n",
      "['keepahorse' '上海铭启电气科技有限公司' 'zhaodongmei' 'pookie0331'\n",
      " 'shitongyi12683626' 'pashesa' 'shenzhenfinejofashioncoltd'\n",
      " 'xiakeliuxingfushi' 'leescloset' 'litiannetworking' 'dududustore'\n",
      " 'redisland' 'fancykiniwardrobe' 'toplifeyouneed' 'jununearstore'\n",
      " 'huanjun411' 'hzxuch' 'zufanqiudinli' 'hellohorse' 'zengdaitao']\n",
      "--------------------------------------------\n",
      "\n",
      "\n",
      "\n",
      "merchant_info_subtitle: \n",
      "['88 % avis positifs (66,644 notes)' '91 % avis positifs (25,752 notes)'\n",
      " '83 % avis positifs (3,897 notes)' '87 % avis positifs (7,497 notes)'\n",
      " '91 % avis positifs (173 notes)' '(16,885 notes)' '(253,249 notes)'\n",
      " '82 % avis positifs (519 notes)' '88 % avis positifs (5,819 notes)'\n",
      " '87 % avis positifs (9,116 notes)' '80 % avis positifs (3,762 notes)'\n",
      " '88 % avis positifs (59,903 notes)' '91 % avis positifs (44,067 notes)'\n",
      " '91 % avis positifs (4,448 notes)' '88 % avis positifs (2,116 notes)'\n",
      " '93 % avis positifs (3,276 notes)' '(2,127 notes)'\n",
      " '88 % avis positifs (9 notes)' '89 % avis positifs (126,370 notes)'\n",
      " '85 % avis positifs (331 notes)']\n",
      "--------------------------------------------\n",
      "\n",
      "\n",
      "\n",
      "merchant_rating_count: \n",
      "[ 66644  25752   3897   7497    173  16885 253249    519   5819   9116\n",
      "   3762  59903  44067   4448   2116   3276   2127      9 126370    331]\n",
      "--------------------------------------------\n",
      "\n",
      "\n",
      "\n",
      "merchant_rating: \n",
      "[4.13758178 4.25687325 3.92891968 4.07936508 4.30635838 3.89789754\n",
      " 4.07061825 3.79190751 4.15191614 4.09291356 3.79744817 4.15366509\n",
      " 4.28849252 4.29226619 4.14603025 4.42857143 3.81758345 3.66666667\n",
      " 4.14695735 4.02114804]\n",
      "--------------------------------------------\n",
      "\n",
      "\n",
      "\n",
      "merchant_id: \n",
      "['577fb2b368116418674befd9' '566a3ef17233ff2686443082'\n",
      " '5aacd6c1ccf0c83e5a6f3de0' '583141fbfef4094e51453d9b'\n",
      " '5d3bc9f8e13a7e654424a4cb' '58a6f41a96f1bb57840b0ed4'\n",
      " '53e4bb20ff4d6d1b68bdb6d1' '5b0fa1b72c3c1d2abb34f1a4'\n",
      " '583e34bb0299bc7904a92edf' '530306fe34067e3f15c41d87'\n",
      " '5d4a717070327a03c1e7644e' '557ed5b886d66519ff242099'\n",
      " '53208a086fa88c662a693514' '58be502223167e61443f4d92'\n",
      " '5b420ce3d9b2a4418b74ae31' '582ff4f70299bc4f4b90d203'\n",
      " '5bde9444a53011739fbde291' '5e4b6a0c57cc9b0b53e499a4'\n",
      " '58ad449708de0c6dc59d9e06' '5aae608bdb5f1f42a93eaaed']\n",
      "--------------------------------------------\n",
      "\n",
      "\n",
      "\n",
      "merchant_has_profile_picture: \n",
      "[1 0]\n",
      "--------------------------------------------\n",
      "\n",
      "\n",
      "\n",
      "merchant_profile_picture: \n",
      "['https://s3-us-west-1.amazonaws.com/sweeper-production-merchantimage/dp_577fb2b368116418674befd9.jpg'\n",
      " nan\n",
      " 'https://s3-us-west-1.amazonaws.com/sweeper-production-merchantimage/dp_53e4bb20ff4d6d1b68bdb6d1.jpg'\n",
      " 'https://s3-us-west-1.amazonaws.com/sweeper-production-merchantimage/dp_530306fe34067e3f15c41d87.jpg'\n",
      " 'https://s3-us-west-1.amazonaws.com/sweeper-production-merchantimage/dp_557ed5b886d66519ff242099.jpg'\n",
      " 'https://s3-us-west-1.amazonaws.com/sweeper-production-merchantimage/dp_58ad449708de0c6dc59d9e06.jpg'\n",
      " 'https://s3-us-west-1.amazonaws.com/sweeper-production-merchantimage/dp_58131ddf6f55296033923a7c.jpg'\n",
      " 'https://s3-us-west-1.amazonaws.com/sweeper-production-merchantimage/dp_58dceeb2a6d6757401114dfd.jpg'\n",
      " 'https://s3-us-west-1.amazonaws.com/sweeper-production-merchantimage/dp_5620c3b23a698c4bc7d17e8c.jpg'\n",
      " 'https://s3-us-west-1.amazonaws.com/sweeper-production-merchantimage/dp_56e43d9e3a698c3826a5feff.jpg'\n",
      " 'https://s3-us-west-1.amazonaws.com/sweeper-production-merchantimage/dp_55c8029641d799421d41fe3a.jpg'\n",
      " 'https://s3-us-west-1.amazonaws.com/sweeper-production-merchantimage/dp_5533c83986ff95173dc017d0.jpg'\n",
      " 'https://s3-us-west-1.amazonaws.com/sweeper-production-merchantimage/dp_5acaf29d5ebcfd72403106a8.jpg'\n",
      " 'https://s3-us-west-1.amazonaws.com/sweeper-production-merchantimage/dp_5abb2cf26be8733b5bf6844f.jpg'\n",
      " 'https://s3-us-west-1.amazonaws.com/sweeper-production-merchantimage/dp_5860cbf734de6c4d4803523d.jpg'\n",
      " 'https://s3-us-west-1.amazonaws.com/sweeper-production-merchantimage/dp_5512b0d98e8def07a462e1d7.jpg'\n",
      " 'https://s3-us-west-1.amazonaws.com/sweeper-production-merchantimage/dp_589e67aa3205e17175ced38e.jpg'\n",
      " 'https://s3-us-west-1.amazonaws.com/sweeper-production-merchantimage/dp_551506dc18b2791039a7286d.jpg'\n",
      " 'https://s3-us-west-1.amazonaws.com/sweeper-production-merchantimage/dp_58fde9517c09181253b0ef86.jpg'\n",
      " 'https://s3-us-west-1.amazonaws.com/sweeper-production-merchantimage/dp_55e7e41e606d0a18fdfc67d1.jpg']\n",
      "--------------------------------------------\n",
      "\n",
      "\n",
      "\n",
      "theme: \n",
      "['summer']\n",
      "--------------------------------------------\n",
      "\n",
      "\n",
      "\n",
      "crawl_month: \n",
      "['2020-08']\n",
      "--------------------------------------------\n",
      "\n",
      "\n",
      "\n",
      "id: \n",
      "[ 272 1515  940  309  226  633   38  203 1230  826  591  958 1362  823\n",
      "   54 1215  932  569 1407  293]\n",
      "--------------------------------------------\n",
      "\n",
      "\n",
      "\n"
     ]
    }
   ],
   "source": [
    "# printing unique values of all columns\n",
    "for column in df.columns:\n",
    "    print(column + ': ')\n",
    "    print(df[column].unique()[:20]) # print first 20 unqiue values in each column\n",
    "    print('--------------------------------------------')\n",
    "    print('\\n\\n')"
   ]
  },
  {
   "cell_type": "code",
   "execution_count": 189,
   "metadata": {},
   "outputs": [
    {
     "data": {
      "text/plain": [
       "array(['2020-08'], dtype=object)"
      ]
     },
     "execution_count": 189,
     "metadata": {},
     "output_type": "execute_result"
    }
   ],
   "source": [
    "df['crawl_month'].unique() # printing unique values of `crawl_month` column"
   ]
  },
  {
   "cell_type": "markdown",
   "metadata": {},
   "source": [
    "- Contains only one value"
   ]
  },
  {
   "cell_type": "code",
   "execution_count": 190,
   "metadata": {},
   "outputs": [
    {
     "data": {
      "text/plain": [
       "array(['EUR'], dtype=object)"
      ]
     },
     "execution_count": 190,
     "metadata": {},
     "output_type": "execute_result"
    }
   ],
   "source": [
    "df['currency_buyer'].unique() # printing unique values of `currency_buyer` column"
   ]
  },
  {
   "cell_type": "markdown",
   "metadata": {},
   "source": [
    "- Contains only one value"
   ]
  },
  {
   "cell_type": "code",
   "execution_count": 191,
   "metadata": {},
   "outputs": [
    {
     "data": {
      "text/plain": [
       "array(['Livraison standard', 'Standard Shipping', 'الشحن القياسي',\n",
       "       'Expediere Standard', 'Envío normal', 'Standardowa wysyłka',\n",
       "       'Envio Padrão', 'Standardversand', 'Spedizione standard',\n",
       "       'Standart Gönderi', 'Livraison Express', 'ការដឹកជញ្ជូនតាមស្តង់ដារ',\n",
       "       'Стандартная доставка'], dtype=object)"
      ]
     },
     "execution_count": 191,
     "metadata": {},
     "output_type": "execute_result"
    }
   ],
   "source": [
    "df['shipping_option_name'].unique() # printing unique values of `shipping_option_name` column"
   ]
  },
  {
   "cell_type": "markdown",
   "metadata": {},
   "source": [
    "- They are all refer to the same meaning but translated to other languages"
   ]
  },
  {
   "cell_type": "code",
   "execution_count": 192,
   "metadata": {},
   "outputs": [
    {
     "data": {
      "text/html": [
       "<div>\n",
       "<style scoped>\n",
       "    .dataframe tbody tr th:only-of-type {\n",
       "        vertical-align: middle;\n",
       "    }\n",
       "\n",
       "    .dataframe tbody tr th {\n",
       "        vertical-align: top;\n",
       "    }\n",
       "\n",
       "    .dataframe thead th {\n",
       "        text-align: right;\n",
       "    }\n",
       "</style>\n",
       "<table border=\"1\" class=\"dataframe\">\n",
       "  <thead>\n",
       "    <tr style=\"text-align: right;\">\n",
       "      <th></th>\n",
       "      <th>price</th>\n",
       "      <th>retail_price</th>\n",
       "      <th>currency_buyer</th>\n",
       "      <th>units_sold</th>\n",
       "      <th>uses_ad_boosts</th>\n",
       "      <th>rating</th>\n",
       "      <th>rating_count</th>\n",
       "      <th>badges_count</th>\n",
       "      <th>badge_local_product</th>\n",
       "      <th>badge_product_quality</th>\n",
       "      <th>...</th>\n",
       "      <th>merchant_name</th>\n",
       "      <th>merchant_info_subtitle</th>\n",
       "      <th>merchant_rating_count</th>\n",
       "      <th>merchant_rating</th>\n",
       "      <th>merchant_id</th>\n",
       "      <th>merchant_has_profile_picture</th>\n",
       "      <th>merchant_profile_picture</th>\n",
       "      <th>theme</th>\n",
       "      <th>crawl_month</th>\n",
       "      <th>id</th>\n",
       "    </tr>\n",
       "  </thead>\n",
       "  <tbody>\n",
       "    <tr>\n",
       "      <th>46</th>\n",
       "      <td>6.0</td>\n",
       "      <td>56</td>\n",
       "      <td>EUR</td>\n",
       "      <td>1000</td>\n",
       "      <td>1</td>\n",
       "      <td>3.0</td>\n",
       "      <td>938</td>\n",
       "      <td>0</td>\n",
       "      <td>0</td>\n",
       "      <td>0</td>\n",
       "      <td>...</td>\n",
       "      <td>nalininternational</td>\n",
       "      <td>(13,309 notes)</td>\n",
       "      <td>13309</td>\n",
       "      <td>3.8767</td>\n",
       "      <td>55c89dc93a698c6010edccc4</td>\n",
       "      <td>0</td>\n",
       "      <td>NaN</td>\n",
       "      <td>summer</td>\n",
       "      <td>2020-08</td>\n",
       "      <td>461</td>\n",
       "    </tr>\n",
       "  </tbody>\n",
       "</table>\n",
       "<p>1 rows × 34 columns</p>\n",
       "</div>"
      ],
      "text/plain": [
       "    price  retail_price currency_buyer  units_sold  uses_ad_boosts  rating  \\\n",
       "46    6.0            56            EUR        1000               1     3.0   \n",
       "\n",
       "    rating_count  badges_count  badge_local_product  badge_product_quality  \\\n",
       "46           938             0                    0                      0   \n",
       "\n",
       "    ...       merchant_name merchant_info_subtitle merchant_rating_count  \\\n",
       "46  ...  nalininternational         (13,309 notes)                 13309   \n",
       "\n",
       "   merchant_rating               merchant_id merchant_has_profile_picture  \\\n",
       "46          3.8767  55c89dc93a698c6010edccc4                            0   \n",
       "\n",
       "    merchant_profile_picture   theme  crawl_month   id  \n",
       "46                       NaN  summer      2020-08  461  \n",
       "\n",
       "[1 rows x 34 columns]"
      ]
     },
     "execution_count": 192,
     "metadata": {},
     "output_type": "execute_result"
    }
   ],
   "source": [
    "df[df['product_variation_size_id'] == 'choose a size'] # print the record has \"choose a size\" as a value in the `product_variation_size_id` column"
   ]
  },
  {
   "cell_type": "markdown",
   "metadata": {},
   "source": [
    "<a id='Feature'></a>\n",
    "## 2. Feature Engineering\n",
    "### 2.1 Chi Squre test and Correlation\n",
    "<a id='correlation'></a>"
   ]
  },
  {
   "cell_type": "code",
   "execution_count": 193,
   "metadata": {},
   "outputs": [
    {
     "name": "stdout",
     "output_type": "stream",
     "text": [
      "rating          1.0  2.0  3.0  4.0  5.0\n",
      "currency_buyer                         \n",
      "EUR               2   12  135  774  170\n",
      "The P-Value of the Column: currency_buyer in ChiSq Test is: 1.0\n",
      "-----------------------------------------------\n",
      "\n",
      "\n",
      "\n",
      "rating          1.0  2.0  3.0  4.0  5.0\n",
      "uses_ad_boosts                         \n",
      "0                 0    8   73  433  106\n",
      "1                 2    4   62  341   64\n",
      "The P-Value of the Column: uses_ad_boosts in ChiSq Test is: 0.20848873358063458\n",
      "-----------------------------------------------\n",
      "\n",
      "\n",
      "\n",
      "rating  1.0  2.0  3.0  4.0  5.0\n",
      "rating                         \n",
      "1.0       2    0    0    0    0\n",
      "2.0       0   12    0    0    0\n",
      "3.0       0    0  135    0    0\n",
      "4.0       0    0    0  774    0\n",
      "5.0       0    0    0    0  170\n",
      "The P-Value of the Column: rating in ChiSq Test is: 0.0\n",
      "-----------------------------------------------\n",
      "\n",
      "\n",
      "\n",
      "rating        1.0  2.0  3.0  4.0  5.0\n",
      "badges_count                         \n",
      "0               2   12  132  716  117\n",
      "1               0    0    0   55   50\n",
      "2               0    0    3    3    2\n",
      "3               0    0    0    0    1\n",
      "The P-Value of the Column: badges_count in ChiSq Test is: 5.450149361647486e-18\n",
      "-----------------------------------------------\n",
      "\n",
      "\n",
      "\n",
      "rating               1.0  2.0  3.0  4.0  5.0\n",
      "badge_local_product                         \n",
      "0                      2   12  132  760  166\n",
      "1                      0    0    3   14    4\n",
      "The P-Value of the Column: badge_local_product in ChiSq Test is: 0.9674875838449739\n",
      "-----------------------------------------------\n",
      "\n",
      "\n",
      "\n",
      "rating                 1.0  2.0  3.0  4.0  5.0\n",
      "badge_product_quality                         \n",
      "0                        2   12  135  732  121\n",
      "1                        0    0    0   42   49\n",
      "The P-Value of the Column: badge_product_quality in ChiSq Test is: 4.558099017240267e-24\n",
      "-----------------------------------------------\n",
      "\n",
      "\n",
      "\n",
      "rating               1.0  2.0  3.0  4.0  5.0\n",
      "badge_fast_shipping                         \n",
      "0                      2   12  132  769  166\n",
      "1                      0    0    3    5    4\n",
      "The P-Value of the Column: badge_fast_shipping in ChiSq Test is: 0.22695977786675472\n",
      "-----------------------------------------------\n",
      "\n",
      "\n",
      "\n",
      "rating                 1.0  2.0  3.0  4.0  5.0\n",
      "shipping_option_price                         \n",
      "1                        2    5   34  152   29\n",
      "2                        0    4   67  293   53\n",
      "3                        0    3   29  282   56\n",
      "4                        0    0    3   32   14\n",
      "5                        0    0    1   10   12\n",
      "6                        0    0    0    4    4\n",
      "7                        0    0    1    1    2\n",
      "The P-Value of the Column: shipping_option_price in ChiSq Test is: 1.1460893539993605e-06\n",
      "-----------------------------------------------\n",
      "\n",
      "\n",
      "\n",
      "rating               1.0  2.0  3.0  4.0  5.0\n",
      "shipping_is_express                         \n",
      "0                      2   12  134  774  169\n",
      "1                      0    0    1    0    1\n",
      "The P-Value of the Column: shipping_is_express in ChiSq Test is: 0.2604621518224236\n",
      "-----------------------------------------------\n",
      "\n",
      "\n",
      "\n",
      "rating           1.0  2.0  3.0  4.0  5.0\n",
      "inventory_total                         \n",
      "1                  0    0    0    0    1\n",
      "9                  0    0    0    0    1\n",
      "36                 0    0    0    1    0\n",
      "37                 0    0    0    1    0\n",
      "50                 2   12  135  772  168\n",
      "The P-Value of the Column: inventory_total in ChiSq Test is: 0.7645463268490048\n",
      "-----------------------------------------------\n",
      "\n",
      "\n",
      "\n",
      "rating              1.0  2.0  3.0  4.0  5.0\n",
      "has_urgency_banner                         \n",
      "1.0                   1    4   48  249   47\n",
      "The P-Value of the Column: has_urgency_banner in ChiSq Test is: 1.0\n",
      "-----------------------------------------------\n",
      "\n",
      "\n",
      "\n",
      "rating                            1.0  2.0  3.0  4.0  5.0\n",
      "urgency_text                                             \n",
      "Quantité limitée !                  1    4   48  248   47\n",
      "Réduction sur les achats en gros    0    0    0    1    0\n",
      "The P-Value of the Column: urgency_text in ChiSq Test is: 0.9822502725162358\n",
      "-----------------------------------------------\n",
      "\n",
      "\n",
      "\n",
      "rating          1.0  2.0  3.0  4.0  5.0\n",
      "origin_country                         \n",
      "CN                2    9  132  743  167\n",
      "GB                0    0    0    1    0\n",
      "SG                0    0    0    2    0\n",
      "US                0    1    3   15    3\n",
      "VE                0    2    0    1    0\n",
      "The P-Value of the Column: origin_country in ChiSq Test is: 2.309515966565329e-18\n",
      "-----------------------------------------------\n",
      "\n",
      "\n",
      "\n",
      "rating                        1.0  2.0  3.0  4.0  5.0\n",
      "merchant_has_profile_picture                         \n",
      "0                               2   12  119  643  147\n",
      "1                               0    0   16  131   23\n",
      "The P-Value of the Column: merchant_has_profile_picture in ChiSq Test is: 0.22889579015085712\n",
      "-----------------------------------------------\n",
      "\n",
      "\n",
      "\n",
      "rating  1.0  2.0  3.0  4.0  5.0\n",
      "theme                          \n",
      "summer    2   12  135  774  170\n",
      "The P-Value of the Column: theme in ChiSq Test is: 1.0\n",
      "-----------------------------------------------\n",
      "\n",
      "\n",
      "\n",
      "rating       1.0  2.0  3.0  4.0  5.0\n",
      "crawl_month                         \n",
      "2020-08        2   12  135  774  170\n",
      "The P-Value of the Column: crawl_month in ChiSq Test is: 1.0\n",
      "-----------------------------------------------\n",
      "\n",
      "\n",
      "\n"
     ]
    }
   ],
   "source": [
    "for column in df.columns:\n",
    "    if len(df[column].unique()) > 10:\n",
    "        continue\n",
    "    # Cross tabulation between each feature and rating\n",
    "    CrosstabResult=pd.crosstab(index=df[column],columns=df['rating'])\n",
    "    print(CrosstabResult)\n",
    "\n",
    "    # importing the required function\n",
    "    from scipy.stats import chi2_contingency\n",
    "\n",
    "    # Performing Chi-sq test\n",
    "    ChiSqResult = chi2_contingency(CrosstabResult)\n",
    "\n",
    "    # P-Value is the Probability of H0 being True\n",
    "    # If P-Value&gt;0.05 then only we Accept the assumption(H0)\n",
    "    \n",
    "    print('The P-Value of the Column: {} in ChiSq Test is:'.format(column), ChiSqResult[1])\n",
    "    print('-----------------------------------------------')\n",
    "    print('\\n\\n')\n",
    "    # reference: https://thinkingneuron.com/how-to-measure-the-correlation-between-two-categorical-variables-in-python/"
   ]
  },
  {
   "cell_type": "code",
   "execution_count": 194,
   "metadata": {},
   "outputs": [
    {
     "data": {
      "text/plain": [
       "Text(0.5, 1.0, 'Figure[1]')"
      ]
     },
     "execution_count": 194,
     "metadata": {},
     "output_type": "execute_result"
    },
    {
     "data": {
      "image/png": "[encoded data removed]",
      "text/plain": [
       "<Figure size 640x480 with 1 Axes>"
      ]
     },
     "metadata": {},
     "output_type": "display_data"
    }
   ],
   "source": [
    "sns.boxplot(x=df.rating, y=df.inventory_total) # ploting box plot to check the corrleation between `rating` and `inventroy_total`\n",
    "plt.title('Figure[1]')"
   ]
  },
  {
   "cell_type": "code",
   "execution_count": 195,
   "metadata": {},
   "outputs": [
    {
     "data": {
      "text/html": [
       "<div>\n",
       "<style scoped>\n",
       "    .dataframe tbody tr th:only-of-type {\n",
       "        vertical-align: middle;\n",
       "    }\n",
       "\n",
       "    .dataframe tbody tr th {\n",
       "        vertical-align: top;\n",
       "    }\n",
       "\n",
       "    .dataframe thead th {\n",
       "        text-align: right;\n",
       "    }\n",
       "</style>\n",
       "<table border=\"1\" class=\"dataframe\">\n",
       "  <thead>\n",
       "    <tr style=\"text-align: right;\">\n",
       "      <th></th>\n",
       "      <th>inventory_total</th>\n",
       "      <th>rating</th>\n",
       "    </tr>\n",
       "  </thead>\n",
       "  <tbody>\n",
       "    <tr>\n",
       "      <th>inventory_total</th>\n",
       "      <td>1.000000</td>\n",
       "      <td>-0.069752</td>\n",
       "    </tr>\n",
       "    <tr>\n",
       "      <th>rating</th>\n",
       "      <td>-0.069752</td>\n",
       "      <td>1.000000</td>\n",
       "    </tr>\n",
       "  </tbody>\n",
       "</table>\n",
       "</div>"
      ],
      "text/plain": [
       "                 inventory_total    rating\n",
       "inventory_total         1.000000 -0.069752\n",
       "rating                 -0.069752  1.000000"
      ]
     },
     "execution_count": 195,
     "metadata": {},
     "output_type": "execute_result"
    }
   ],
   "source": [
    "df[['inventory_total', 'rating']].corr() # checking the corrleation between `rating` and `inventroy_total`"
   ]
  },
  {
   "cell_type": "code",
   "execution_count": 196,
   "metadata": {},
   "outputs": [
    {
     "data": {
      "text/plain": [
       "rating\n",
       "1.0    50.000000\n",
       "2.0    50.000000\n",
       "3.0    50.000000\n",
       "4.0    49.965116\n",
       "5.0    49.470588\n",
       "Name: inventory_total, dtype: float64"
      ]
     },
     "execution_count": 196,
     "metadata": {},
     "output_type": "execute_result"
    }
   ],
   "source": [
    "df.groupby(by=[\"rating\"], dropna=False).mean()['inventory_total'] # checking the corrleation between `rating` and `inventroy_total`"
   ]
  },
  {
   "cell_type": "code",
   "execution_count": 197,
   "metadata": {},
   "outputs": [
    {
     "data": {
      "text/plain": [
       "rating\n",
       "1.0    44.000000\n",
       "2.0    40.666667\n",
       "3.0    38.837037\n",
       "4.0    40.604651\n",
       "5.0    41.188235\n",
       "Name: countries_shipped_to, dtype: float64"
      ]
     },
     "execution_count": 197,
     "metadata": {},
     "output_type": "execute_result"
    }
   ],
   "source": [
    "df.groupby(by=[\"rating\"], dropna=False).mean()['countries_shipped_to'] # checking the corrleation between `rating` and `countries_shipped_to`"
   ]
  },
  {
   "cell_type": "code",
   "execution_count": 198,
   "metadata": {},
   "outputs": [
    {
     "data": {
      "text/html": [
       "<div>\n",
       "<style scoped>\n",
       "    .dataframe tbody tr th:only-of-type {\n",
       "        vertical-align: middle;\n",
       "    }\n",
       "\n",
       "    .dataframe tbody tr th {\n",
       "        vertical-align: top;\n",
       "    }\n",
       "\n",
       "    .dataframe thead th {\n",
       "        text-align: right;\n",
       "    }\n",
       "</style>\n",
       "<table border=\"1\" class=\"dataframe\">\n",
       "  <thead>\n",
       "    <tr style=\"text-align: right;\">\n",
       "      <th></th>\n",
       "      <th>countries_shipped_to</th>\n",
       "      <th>rating</th>\n",
       "    </tr>\n",
       "  </thead>\n",
       "  <tbody>\n",
       "    <tr>\n",
       "      <th>countries_shipped_to</th>\n",
       "      <td>1.000000</td>\n",
       "      <td>0.024617</td>\n",
       "    </tr>\n",
       "    <tr>\n",
       "      <th>rating</th>\n",
       "      <td>0.024617</td>\n",
       "      <td>1.000000</td>\n",
       "    </tr>\n",
       "  </tbody>\n",
       "</table>\n",
       "</div>"
      ],
      "text/plain": [
       "                      countries_shipped_to    rating\n",
       "countries_shipped_to              1.000000  0.024617\n",
       "rating                            0.024617  1.000000"
      ]
     },
     "execution_count": 198,
     "metadata": {},
     "output_type": "execute_result"
    }
   ],
   "source": [
    "df[['countries_shipped_to', 'rating']].corr() # checking the corrleation between `rating` and `countries_shipped_to`"
   ]
  },
  {
   "cell_type": "code",
   "execution_count": 199,
   "metadata": {},
   "outputs": [
    {
     "data": {
      "text/html": [
       "<div>\n",
       "<style scoped>\n",
       "    .dataframe tbody tr th:only-of-type {\n",
       "        vertical-align: middle;\n",
       "    }\n",
       "\n",
       "    .dataframe tbody tr th {\n",
       "        vertical-align: top;\n",
       "    }\n",
       "\n",
       "    .dataframe thead th {\n",
       "        text-align: right;\n",
       "    }\n",
       "</style>\n",
       "<table border=\"1\" class=\"dataframe\">\n",
       "  <thead>\n",
       "    <tr style=\"text-align: right;\">\n",
       "      <th></th>\n",
       "      <th>shipping_option_price</th>\n",
       "      <th>rating</th>\n",
       "    </tr>\n",
       "  </thead>\n",
       "  <tbody>\n",
       "    <tr>\n",
       "      <th>shipping_option_price</th>\n",
       "      <td>1.00000</td>\n",
       "      <td>0.18211</td>\n",
       "    </tr>\n",
       "    <tr>\n",
       "      <th>rating</th>\n",
       "      <td>0.18211</td>\n",
       "      <td>1.00000</td>\n",
       "    </tr>\n",
       "  </tbody>\n",
       "</table>\n",
       "</div>"
      ],
      "text/plain": [
       "                       shipping_option_price   rating\n",
       "shipping_option_price                1.00000  0.18211\n",
       "rating                               0.18211  1.00000"
      ]
     },
     "execution_count": 199,
     "metadata": {},
     "output_type": "execute_result"
    }
   ],
   "source": [
    "df[['shipping_option_price', 'rating']].corr() # checking the corrleation between `rating` and `shipping_option_price`"
   ]
  },
  {
   "cell_type": "code",
   "execution_count": 200,
   "metadata": {},
   "outputs": [
    {
     "data": {
      "text/html": [
       "<div>\n",
       "<style scoped>\n",
       "    .dataframe tbody tr th:only-of-type {\n",
       "        vertical-align: middle;\n",
       "    }\n",
       "\n",
       "    .dataframe tbody tr th {\n",
       "        vertical-align: top;\n",
       "    }\n",
       "\n",
       "    .dataframe thead th {\n",
       "        text-align: right;\n",
       "    }\n",
       "</style>\n",
       "<table border=\"1\" class=\"dataframe\">\n",
       "  <thead>\n",
       "    <tr style=\"text-align: right;\">\n",
       "      <th></th>\n",
       "      <th>product_variation_inventory</th>\n",
       "      <th>rating</th>\n",
       "    </tr>\n",
       "  </thead>\n",
       "  <tbody>\n",
       "    <tr>\n",
       "      <th>product_variation_inventory</th>\n",
       "      <td>1.000000</td>\n",
       "      <td>0.053252</td>\n",
       "    </tr>\n",
       "    <tr>\n",
       "      <th>rating</th>\n",
       "      <td>0.053252</td>\n",
       "      <td>1.000000</td>\n",
       "    </tr>\n",
       "  </tbody>\n",
       "</table>\n",
       "</div>"
      ],
      "text/plain": [
       "                             product_variation_inventory    rating\n",
       "product_variation_inventory                     1.000000  0.053252\n",
       "rating                                          0.053252  1.000000"
      ]
     },
     "execution_count": 200,
     "metadata": {},
     "output_type": "execute_result"
    }
   ],
   "source": [
    "df[['product_variation_inventory', 'rating']].corr() # checking the corrleation between `rating` and `product_variation_inventory`"
   ]
  },
  {
   "cell_type": "code",
   "execution_count": 201,
   "metadata": {},
   "outputs": [
    {
     "data": {
      "text/plain": [
       "rating\n",
       "1.0    20.000000\n",
       "2.0    30.333333\n",
       "3.0    28.029630\n",
       "4.0    33.821705\n",
       "5.0    32.488235\n",
       "Name: product_variation_inventory, dtype: float64"
      ]
     },
     "execution_count": 201,
     "metadata": {},
     "output_type": "execute_result"
    }
   ],
   "source": [
    "df.groupby(by=[\"rating\"], dropna=False).mean()['product_variation_inventory'] # checking the corrleation between `rating` and `product_variation_inventory`"
   ]
  },
  {
   "cell_type": "code",
   "execution_count": 202,
   "metadata": {},
   "outputs": [
    {
     "data": {
      "text/html": [
       "<div>\n",
       "<style scoped>\n",
       "    .dataframe tbody tr th:only-of-type {\n",
       "        vertical-align: middle;\n",
       "    }\n",
       "\n",
       "    .dataframe tbody tr th {\n",
       "        vertical-align: top;\n",
       "    }\n",
       "\n",
       "    .dataframe thead th {\n",
       "        text-align: right;\n",
       "    }\n",
       "</style>\n",
       "<table border=\"1\" class=\"dataframe\">\n",
       "  <thead>\n",
       "    <tr style=\"text-align: right;\">\n",
       "      <th></th>\n",
       "      <th>rating_count</th>\n",
       "      <th>rating</th>\n",
       "    </tr>\n",
       "  </thead>\n",
       "  <tbody>\n",
       "    <tr>\n",
       "      <th>rating_count</th>\n",
       "      <td>1.000000</td>\n",
       "      <td>0.026881</td>\n",
       "    </tr>\n",
       "    <tr>\n",
       "      <th>rating</th>\n",
       "      <td>0.026881</td>\n",
       "      <td>1.000000</td>\n",
       "    </tr>\n",
       "  </tbody>\n",
       "</table>\n",
       "</div>"
      ],
      "text/plain": [
       "              rating_count    rating\n",
       "rating_count      1.000000  0.026881\n",
       "rating            0.026881  1.000000"
      ]
     },
     "execution_count": 202,
     "metadata": {},
     "output_type": "execute_result"
    }
   ],
   "source": [
    "df[['rating_count', 'rating']].corr() # checking the corrleation between `rating` and `product_variation_inventory`"
   ]
  },
  {
   "cell_type": "code",
   "execution_count": 203,
   "metadata": {},
   "outputs": [
    {
     "data": {
      "text/plain": [
       "rating\n",
       "1.0       1.000000\n",
       "2.0       2.666667\n",
       "3.0     305.000000\n",
       "4.0    1136.521964\n",
       "5.0     474.705882\n",
       "Name: rating_count, dtype: float64"
      ]
     },
     "execution_count": 203,
     "metadata": {},
     "output_type": "execute_result"
    }
   ],
   "source": [
    "df.groupby(by=[\"rating\"], dropna=False).mean()['rating_count'] # checking the corrleation between `rating` and `product_variation_inventory`"
   ]
  },
  {
   "cell_type": "code",
   "execution_count": 204,
   "metadata": {},
   "outputs": [
    {
     "data": {
      "text/plain": [
       "Text(0.5, 1.0, 'Figure[2]')"
      ]
     },
     "execution_count": 204,
     "metadata": {},
     "output_type": "execute_result"
    },
    {
     "data": {
      "image/png": "[encoded data removed]",
      "text/plain": [
       "<Figure size 640x480 with 1 Axes>"
      ]
     },
     "metadata": {},
     "output_type": "display_data"
    }
   ],
   "source": [
    "sns.boxplot(x=df.rating, y=df.product_variation_inventory) # ploting box plot to check the corrleation between `rating` and `product_variation_inventory`\n",
    "plt.title('Figure[2]')"
   ]
  },
  {
   "cell_type": "code",
   "execution_count": 205,
   "metadata": {},
   "outputs": [
    {
     "data": {
      "text/html": [
       "<div>\n",
       "<style scoped>\n",
       "    .dataframe tbody tr th:only-of-type {\n",
       "        vertical-align: middle;\n",
       "    }\n",
       "\n",
       "    .dataframe tbody tr th {\n",
       "        vertical-align: top;\n",
       "    }\n",
       "\n",
       "    .dataframe thead th {\n",
       "        text-align: right;\n",
       "    }\n",
       "</style>\n",
       "<table border=\"1\" class=\"dataframe\">\n",
       "  <thead>\n",
       "    <tr style=\"text-align: right;\">\n",
       "      <th></th>\n",
       "      <th>badge_product_quality</th>\n",
       "      <th>rating</th>\n",
       "    </tr>\n",
       "  </thead>\n",
       "  <tbody>\n",
       "    <tr>\n",
       "      <th>badge_product_quality</th>\n",
       "      <td>1.000000</td>\n",
       "      <td>0.276168</td>\n",
       "    </tr>\n",
       "    <tr>\n",
       "      <th>rating</th>\n",
       "      <td>0.276168</td>\n",
       "      <td>1.000000</td>\n",
       "    </tr>\n",
       "  </tbody>\n",
       "</table>\n",
       "</div>"
      ],
      "text/plain": [
       "                       badge_product_quality    rating\n",
       "badge_product_quality               1.000000  0.276168\n",
       "rating                              0.276168  1.000000"
      ]
     },
     "execution_count": 205,
     "metadata": {},
     "output_type": "execute_result"
    }
   ],
   "source": [
    "df[['badge_product_quality', 'rating']].corr() # checking the corrleation between `rating` and `badge_product_quality`"
   ]
  },
  {
   "cell_type": "markdown",
   "metadata": {},
   "source": [
    "<a id='selection'></a>\n",
    "##    2.2 Feature Selection\n",
    "----------------------------\n",
    "- we have non relavent rating which is 6 that may be a data entry error so we gonna drop this row\n",
    "- the are some columns that seems not realted to product info like marchant info and we will try to prove that there is no relation using statstical methods\n",
    "- `merchant_profile_picture`, `urgency_text` <font color ='green'>and `has_urgency_banner` contains 745 null values and sounds not related to rating and hard to fill so we may drop thoses except for one column which is `has_urgency_banner` we can fill null by zero and try because I expect that null values refers to products which has no urgency banner and after filling the null values we will come back and checj the correlation </font>\n",
    "- `crawl_month` and `theme` conatins only one unique value so it will not effect the rating\n",
    "- `merchant_has_profile_picture` a flag column that indicate if the merchant has a profile picture or not so it seems not relevant and we can see that the <b>p-value</b> using chisq test shows that there is no relation between this feature and the rating so we gonna drop it\n",
    "- `merchant_id` it is just a unique number that define the merchant so it has nothing to do with our problem so we gonna drop it\n",
    "- `merchant_info_subtitle` this column shows the percentage and number of feedbacks notes of customers for that mercahant and it is a text column that needs more manipulation to extract the data from it and there is other feature which is `merchant_rating` that almost gives the same information so we gonna drop `merchant_info_subtitle`\n",
    "- `merchant_name` and `merchant_title` it is just a merchant name and merchant_title which has nothing to do with our problem as it has no effect on product rating\n",
    "    <a id='p2'></a>\n",
    "- <font color='green'> `origin_country` may effect the rating as the <b>p-value = 2.3e10-18</b> which shows that there is a high corellation between the rating column and origin_country but as we can see there is a shortage in data for countries other than <b>CN</b> so the p-value may not be accurate but we will take this feature in our consideration and try the model with and without it and see what will happen. another thing to take in our consideration is this column has 12 null values so, we gonna drop thoses rows </font>\n",
    "- `inventory_total` as we can see in the figure [1] and in the cells below there is no correlation between `inventory_total` and `rating` feature as the avgerages do not change when ratings change so we gonna drop it \n",
    "- `countries_shipped_to` by checking correlation coffecient and calculating averages group by rating it seems there is no correlation with our target so we gonna drop it\n",
    "- `shipping_is_express` the <b>p-value=0.26</b> which shows weak correlation with `rating` so we gonna drop it\n",
    "- <font color='green'>`shipping_option_price` the <b>p-value=1.14e-06</b> which show moderate correlation with `rating` so we gonna keep this feature and take it in our consideration </font>\n",
    "- `shipping_option_name` After translating the values inside this column I found that all refers to the same thing but translated into different langauges so it will not effect our target column so we gonna drop it.\n",
    "- `product_variation_inventory` the correlation coffecient between this feature and rating is close to zero which indicates weak relation between those two variables and figure[2] support that saying, so we gonna drop it.\n",
    "- `tags` we gonna drop the tags column as it has no relation with rating a product. we can consider this from the business perspective.\n",
    "- `badge_fast_shipping` the <b>p-value=0.22</b> which shows weak correlation between `badge_fast_shipping` and `rating` so we gonna drop it.\n",
    "-<font color='green'> `badge_product_quality` the <b>p-value=4.55e-24</b> which shows strong correlation between `badge_product_quality` and `rating` so we gonna take it in our consideration </font>\n",
    "- `currency_buyer` conatins only one unique value so it will not effect the rating so we gonaa drop it\n",
    "\n",
    "<a id='extraction'></a>\n",
    "## 2.3 Feature Extraction (recommended):\n",
    "--------------------------\n",
    "- `product_variation_size_id` contains corrupted and duplicated values so we gonna handdle it and check the correlation again. and I if I had more data of products I would try to create another column that count different sizes for each product as it might replace this categorical feature with other simple feature and avoid incorrect entries like color or pice instead of size and void one hot incoding and flood of feature. Then I have an assumption which says that if the product have different varity of sizes it might increase the rating so I will see if there is a correlation or not after creating this feature.\n",
    "- `product_color` this column has the same issue as the `product_variation_size_id` column so if I had more data for the product I would count `product_color` by product to to create new feature that indicates the varity of colors for each product and drop the `product_color` then check the correlation\n",
    "<a id='fc'></a>    \n",
    "## 2.4 Conclusion in Feature Engineering:\n",
    "---------------------------------------\n",
    "- After doing all of them feature by feature and checking its correlation with target variable I realized I'm doing it indvidually but may be there is a correlation between two combined feature and target variable so this may not work and will lead to bad accuracy and bad f1-score so I need an algorithm that can take the correlation between combined feature in its consideration and I think the decision tree or random forest can do this as it uses information gain or entropy and try different combination of feature, And I gonna use selected features which have strong correlation with target variable then use all features with random forest and other algorithms to prove the point."
   ]
  },
  {
   "cell_type": "code",
   "execution_count": 206,
   "metadata": {},
   "outputs": [],
   "source": [
    "df_p1 = df.copy()\n",
    "df_p1.drop(['merchant_profile_picture', 'urgency_text', 'currency_buyer', 'merchant_name', 'merchant_title', 'crawl_month', 'theme', 'merchant_profile_picture', 'merchant_id', 'shipping_option_name', 'merchant_info_subtitle', 'tags', 'id'], axis=1, inplace=True)\n",
    "df_p1['has_urgency_banner'].fillna(0, inplace=True)\n"
   ]
  },
  {
   "cell_type": "markdown",
   "metadata": {},
   "source": [
    "<a id=missing></a>\n",
    "## 2.5 Missing and Duplicated Values"
   ]
  },
  {
   "cell_type": "markdown",
   "metadata": {},
   "source": [
    "## Handling Duplication, incorrect values: \n",
    "##### 2.4.1  `product_variation_size_id` column: "
   ]
  },
  {
   "cell_type": "code",
   "execution_count": 207,
   "metadata": {},
   "outputs": [
    {
     "data": {
      "text/plain": [
       "array(['M', 'L', 'XS', 'S', 'XL', '26(Waist 72cm 28inch)', 'S.',\n",
       "       'S(bust 88cm)', 'XXS', 's', '29', nan, 'choose a size', 'XXXS',\n",
       "       'Base Coat', 'Size M', 'XXL', 'M.', 'XS.',\n",
       "       '100 x 100cm(39.3 x 39.3inch)', '2pcs', '4XL', '1', '25-S',\n",
       "       'Size-XXS', '5PAIRS', '35', 'Pack of 1', 'Size S', 'Size-S', '6XL',\n",
       "       '25', 'S/M(child)', '60', 'Size-XS', 'S (waist58-62cm)',\n",
       "       'SIZE XXS', '10 ml', 'X   L', 'Women Size 36', '04-3XL',\n",
       "       'Size -XXS', '1 pc.', 'Floating Chair for Kid', 'S Pink', '34',\n",
       "       'US-S', 'Size XXS', 'pants-S', 'XXXXL', 'SIZE-XXS', 'SIZE XS',\n",
       "       '1pc', 'Size S.', '100 cm', 'S..', 'Round', '4-5 Years', '5', '33',\n",
       "       '30 cm', '2', 'XXXXXL', '20PCS-10PAIRS', '2XL', 'Size-5XL',\n",
       "       'Size4XL', 'One Size', 'size S', 'Size/S', 'B', 'SizeL', '20pcs',\n",
       "       '1 PC - XL', 'Suit-S', 'Base & Top & Matte Top Coat',\n",
       "       'Baby Float Boat', '1m by 3m', 'SIZE S', 'White', '40 cm', '5XL',\n",
       "       '10pcs', 'H01'], dtype=object)"
      ]
     },
     "execution_count": 207,
     "metadata": {},
     "output_type": "execute_result"
    }
   ],
   "source": [
    "df_p1['product_variation_size_id'].unique() # print unique values of `product_variation_size_id` column"
   ]
  },
  {
   "cell_type": "code",
   "execution_count": 208,
   "metadata": {},
   "outputs": [
    {
     "data": {
      "text/html": [
       "<div>\n",
       "<style scoped>\n",
       "    .dataframe tbody tr th:only-of-type {\n",
       "        vertical-align: middle;\n",
       "    }\n",
       "\n",
       "    .dataframe tbody tr th {\n",
       "        vertical-align: top;\n",
       "    }\n",
       "\n",
       "    .dataframe thead th {\n",
       "        text-align: right;\n",
       "    }\n",
       "</style>\n",
       "<table border=\"1\" class=\"dataframe\">\n",
       "  <thead>\n",
       "    <tr style=\"text-align: right;\">\n",
       "      <th></th>\n",
       "      <th>price</th>\n",
       "      <th>retail_price</th>\n",
       "      <th>units_sold</th>\n",
       "      <th>uses_ad_boosts</th>\n",
       "      <th>rating</th>\n",
       "      <th>rating_count</th>\n",
       "      <th>badges_count</th>\n",
       "      <th>badge_local_product</th>\n",
       "      <th>badge_product_quality</th>\n",
       "      <th>badge_fast_shipping</th>\n",
       "      <th>...</th>\n",
       "      <th>product_variation_inventory</th>\n",
       "      <th>shipping_option_price</th>\n",
       "      <th>shipping_is_express</th>\n",
       "      <th>countries_shipped_to</th>\n",
       "      <th>inventory_total</th>\n",
       "      <th>has_urgency_banner</th>\n",
       "      <th>origin_country</th>\n",
       "      <th>merchant_rating_count</th>\n",
       "      <th>merchant_rating</th>\n",
       "      <th>merchant_has_profile_picture</th>\n",
       "    </tr>\n",
       "  </thead>\n",
       "  <tbody>\n",
       "    <tr>\n",
       "      <th>46</th>\n",
       "      <td>6.0</td>\n",
       "      <td>56</td>\n",
       "      <td>1000</td>\n",
       "      <td>1</td>\n",
       "      <td>3.0</td>\n",
       "      <td>938</td>\n",
       "      <td>0</td>\n",
       "      <td>0</td>\n",
       "      <td>0</td>\n",
       "      <td>0</td>\n",
       "      <td>...</td>\n",
       "      <td>1</td>\n",
       "      <td>2</td>\n",
       "      <td>0</td>\n",
       "      <td>28</td>\n",
       "      <td>50</td>\n",
       "      <td>0.0</td>\n",
       "      <td>CN</td>\n",
       "      <td>13309</td>\n",
       "      <td>3.8767</td>\n",
       "      <td>0</td>\n",
       "    </tr>\n",
       "  </tbody>\n",
       "</table>\n",
       "<p>1 rows × 22 columns</p>\n",
       "</div>"
      ],
      "text/plain": [
       "    price  retail_price  units_sold  uses_ad_boosts  rating  rating_count  \\\n",
       "46    6.0            56        1000               1     3.0           938   \n",
       "\n",
       "    badges_count  badge_local_product  badge_product_quality  \\\n",
       "46             0                    0                      0   \n",
       "\n",
       "    badge_fast_shipping  ... product_variation_inventory  \\\n",
       "46                    0  ...                           1   \n",
       "\n",
       "   shipping_option_price  shipping_is_express  countries_shipped_to  \\\n",
       "46                     2                    0                    28   \n",
       "\n",
       "    inventory_total  has_urgency_banner  origin_country  \\\n",
       "46               50                 0.0              CN   \n",
       "\n",
       "    merchant_rating_count merchant_rating  merchant_has_profile_picture  \n",
       "46                  13309          3.8767                             0  \n",
       "\n",
       "[1 rows x 22 columns]"
      ]
     },
     "execution_count": 208,
     "metadata": {},
     "output_type": "execute_result"
    }
   ],
   "source": [
    "df_p1[df_p1['product_variation_size_id'] == 'choose a size'] # print the record that has `product_variation_size_id` = 'choose a size'"
   ]
  },
  {
   "cell_type": "code",
   "execution_count": 209,
   "metadata": {},
   "outputs": [],
   "source": [
    "# this function maps the duplicated values to one correct value\n",
    "def rename_size_values(x):\n",
    "    if x in ('S.', 's', 'S..', 'size S', 'Size/S', 'Suit-S', 'SIZE S', 'S Pink', 'S (waist58-62cm)', 'S(bust 88cm)'):\n",
    "        return 'S'\n",
    "    elif x in ('XS.', 'Size-XS'):\n",
    "        return 'XS'\n",
    "    elif x in ('Size M', 'M.'):\n",
    "        return 'M'\n",
    "    elif x == 'SizeL':\n",
    "        return 'L'\n",
    "    elif x in ('1 PC - XL', 'X   L'):\n",
    "        return 'XL'\n",
    "    elif x in ('Size-XXS', 'SIZE XXS', 'Size -XXS', 'Size -XXS', 'Size XXS', 'SIZE-XXS'):\n",
    "        return 'XXS'\n",
    "    else:\n",
    "        return x"
   ]
  },
  {
   "cell_type": "markdown",
   "metadata": {},
   "source": [
    "##### 2.4.2 `product_color` column: "
   ]
  },
  {
   "cell_type": "code",
   "execution_count": 210,
   "metadata": {},
   "outputs": [
    {
     "data": {
      "text/plain": [
       "array(['yellow', 'black', 'white', 'lakeblue', 'apricot', 'brown',\n",
       "       'winered', 'blue', 'red', 'navyblue', 'green', 'khaki', 'White',\n",
       "       'white & green', 'multicolor', 'lightpink', 'pink', 'RED',\n",
       "       'armygreen', 'lightblue', nan, 'coffee', 'grey', 'skyblue',\n",
       "       'watermelonred', 'pink & black', 'whitefloral', 'purple', 'navy',\n",
       "       'pink & white', 'rosered', 'orange', 'Black', 'mintgreen',\n",
       "       'leopardprint', 'gray', 'navy blue', 'star', 'rose', 'lightyellow',\n",
       "       'camouflage', 'black & yellow', 'whitestripe', 'navyblue & white',\n",
       "       'black & blue', 'lightred', 'violet', 'gold', 'black & green',\n",
       "       'white & black', 'burgundy', 'black & white', 'lightgrey',\n",
       "       'coolblack', 'lightgreen', 'beige', 'darkblue', 'darkgreen',\n",
       "       'silver', 'wine red', 'Army green', 'pink & blue', 'rainbow',\n",
       "       'claret', 'floral', 'brown & yellow', 'light green', 'Pink',\n",
       "       'blue & pink', 'dustypink', 'camel', 'orange-red', 'rosegold',\n",
       "       'ivory', 'fluorescentgreen', 'winered & yellow', 'offwhite',\n",
       "       'lightgray', 'wine', 'army', 'applegreen', 'nude', 'pink & grey',\n",
       "       'denimblue', 'blackwhite', 'Blue', 'leopard'], dtype=object)"
      ]
     },
     "execution_count": 210,
     "metadata": {},
     "output_type": "execute_result"
    }
   ],
   "source": [
    "df_p1['product_color'].unique() # print unique values of `product_color` column"
   ]
  },
  {
   "cell_type": "code",
   "execution_count": 211,
   "metadata": {},
   "outputs": [],
   "source": [
    "# this function maps the duplicated values to one correct value\n",
    "def rename_color_values(x):\n",
    "    if x == 'black':\n",
    "        return 'Black'\n",
    "    elif x == 'white':\n",
    "        return 'White'\n",
    "    elif x in ('Size M', 'M.'):\n",
    "        return 'M'\n",
    "    elif x == 'light green':\n",
    "        return 'lightgreen'\n",
    "    elif x == 'pink':\n",
    "        return 'Pink'\n",
    "    elif x == 'RED':\n",
    "        return 'red'\n",
    "    elif x == 'blue & pink':\n",
    "        return 'pink & blue'\n",
    "    elif x == 'blue':\n",
    "        return 'Blue'\n",
    "    else: \n",
    "        return x"
   ]
  },
  {
   "cell_type": "code",
   "execution_count": 212,
   "metadata": {},
   "outputs": [],
   "source": [
    "df_p1['product_variation_size_id'] = df_p1['product_variation_size_id'].apply(rename_size_values) # applying the function to correct values in the column\n",
    "#df_p1['product_color'] = df_p1['product_color'].apply(rename_color_values) # applying the function to correct values in the column"
   ]
  },
  {
   "cell_type": "code",
   "execution_count": 213,
   "metadata": {},
   "outputs": [
    {
     "data": {
      "text/plain": [
       "62"
      ]
     },
     "execution_count": 213,
     "metadata": {},
     "output_type": "execute_result"
    }
   ],
   "source": [
    "len(df_p1['product_variation_size_id'].unique()) # count unique values in `product_variation_size_id` after handling values"
   ]
  },
  {
   "cell_type": "code",
   "execution_count": 214,
   "metadata": {},
   "outputs": [],
   "source": [
    "df_p1['product_color'] = df_p1['product_color'].apply(rename_color_values) # applying the function to correct values in the column"
   ]
  },
  {
   "cell_type": "markdown",
   "metadata": {},
   "source": [
    "<a id='p1'></a>\n",
    "<br>\n",
    "<br>\n",
    "\n",
    "\n",
    "- After hadling some of incorrect values I found there are some values that I can not corrected and I can not predict its correct value so I will try the model with and without those two feature `product_variation_size_id` and `product_color`"
   ]
  },
  {
   "cell_type": "code",
   "execution_count": 215,
   "metadata": {},
   "outputs": [],
   "source": [
    "df_p1.fillna(method='ffill', inplace=True) # filling null values by previous value"
   ]
  },
  {
   "cell_type": "code",
   "execution_count": 216,
   "metadata": {},
   "outputs": [
    {
     "name": "stdout",
     "output_type": "stream",
     "text": [
      "<class 'pandas.core.frame.DataFrame'>\n",
      "Int64Index: 1093 entries, 0 to 1093\n",
      "Data columns (total 22 columns):\n",
      " #   Column                        Non-Null Count  Dtype  \n",
      "---  ------                        --------------  -----  \n",
      " 0   price                         1093 non-null   float64\n",
      " 1   retail_price                  1093 non-null   int64  \n",
      " 2   units_sold                    1093 non-null   int64  \n",
      " 3   uses_ad_boosts                1093 non-null   int64  \n",
      " 4   rating                        1093 non-null   float64\n",
      " 5   rating_count                  1093 non-null   int64  \n",
      " 6   badges_count                  1093 non-null   int64  \n",
      " 7   badge_local_product           1093 non-null   int64  \n",
      " 8   badge_product_quality         1093 non-null   int64  \n",
      " 9   badge_fast_shipping           1093 non-null   int64  \n",
      " 10  product_color                 1093 non-null   object \n",
      " 11  product_variation_size_id     1093 non-null   object \n",
      " 12  product_variation_inventory   1093 non-null   int64  \n",
      " 13  shipping_option_price         1093 non-null   int64  \n",
      " 14  shipping_is_express           1093 non-null   int64  \n",
      " 15  countries_shipped_to          1093 non-null   int64  \n",
      " 16  inventory_total               1093 non-null   int64  \n",
      " 17  has_urgency_banner            1093 non-null   float64\n",
      " 18  origin_country                1093 non-null   object \n",
      " 19  merchant_rating_count         1093 non-null   int64  \n",
      " 20  merchant_rating               1093 non-null   float64\n",
      " 21  merchant_has_profile_picture  1093 non-null   int64  \n",
      "dtypes: float64(4), int64(15), object(3)\n",
      "memory usage: 196.4+ KB\n"
     ]
    }
   ],
   "source": [
    "df_p1.info() # priting columns after droping some of them and handling incorrect values"
   ]
  },
  {
   "cell_type": "markdown",
   "metadata": {},
   "source": [
    "- These columns are selected columns that we gonna use and permutate some of them with different models"
   ]
  },
  {
   "cell_type": "markdown",
   "metadata": {},
   "source": [
    "<a id='which'></a>\n",
    "# 3. which model should be tried?"
   ]
  },
  {
   "cell_type": "markdown",
   "metadata": {},
   "source": [
    "- After doing all of them feature by feature and checking its correlation with target variable I realized I'm doing it indvidually but may be there is a correlation between two combined feature and target variable so this may not work and will lead to bad accuracy and bad f1-score so I need an algorithm that can take the correlation between combined feature in its consideration and I think the decision tree or random forest can do this as it uses information gain or entropy and try different combination of feature, And I gonna use selected features which have strong correlation with target variable then use all features with random forest and other algorithms to prove the point."
   ]
  },
  {
   "cell_type": "markdown",
   "metadata": {},
   "source": [
    "<a id='modelling'></a>\n",
    "# 4. Modelling\n"
   ]
  },
  {
   "cell_type": "markdown",
   "metadata": {},
   "source": [
    "<a id='forest1'></a>\n",
    "## 4.1. Random Forest no.1"
   ]
  },
  {
   "cell_type": "markdown",
   "metadata": {},
   "source": [
    "- The First model below is without `product_color` and `product_variation_size_id` columns. Why without those two feature? check the point [Here](#p1)\n"
   ]
  },
  {
   "cell_type": "code",
   "execution_count": 217,
   "metadata": {},
   "outputs": [],
   "source": [
    "# here we put data preprocessing steps in one function to make things easier\n",
    "def data_preprocessing_1(data):\n",
    "    # droping irrelevant features\n",
    "    data = data.drop(['merchant_profile_picture', 'urgency_text', 'currency_buyer', 'merchant_name', 'merchant_title', 'crawl_month', 'theme', 'merchant_profile_picture', 'merchant_id', 'shipping_option_name', 'merchant_info_subtitle', 'tags', 'id'], axis=1)\n",
    "    # drop coulmns which have issues\n",
    "    data = data.drop(['product_color', 'product_variation_size_id'], axis=1) # drop the two columns\n",
    "    data['merchant_rating'] = np.round(data['merchant_rating'], decimals = 3) # round to the thired decimal place\n",
    "    data['price'] = np.round(data['price'], decimals = 3) # round to the thired decimal place\n",
    "    data['retail_price'] = np.round(data['retail_price'], decimals = 3) # round to the thired decimal place\n",
    "    data['has_urgency_banner'] = data['has_urgency_banner'].fillna(0) # filling null values by 0\n",
    "    data = data.fillna(method='ffill') # fill other missing values by prvious one.\n",
    "#     print(test_data['origin_country'].unique())\n",
    "#     data = pd.get_dummies(data, prefix=['origin_country'])\n",
    "    return data"
   ]
  },
  {
   "cell_type": "code",
   "execution_count": 218,
   "metadata": {},
   "outputs": [],
   "source": [
    "# data_model1 = data_preprocessing_1(df) # calling the data_preprocessing_1 function."
   ]
  },
  {
   "cell_type": "code",
   "execution_count": 219,
   "metadata": {},
   "outputs": [],
   "source": [
    "data_model1 = data_preprocessing_1(df) # calling the data_preprocessing_1 function.\n",
    "# data_model1['merchant_rating'] = data_model1['merchant_rating'].apply(np.ceil)\n",
    "y = data_model1['rating'] # get the target column\n",
    "test_data_ori = pd.read_csv('test_new.csv') # reading the test data\n",
    "test_data = data_preprocessing_1(test_data_ori) # calling the preprocessing for the test data\n",
    "data_model1 = pd.get_dummies(data_model1, prefix=['origin_country']) # one-hot encoding for categorical columns in trainning\n",
    "test_model1 = pd.get_dummies(test_data, prefix=['origin_country']) # one-hot encoding for categorical columns in testing\n",
    "data_model1, test_model1 = data_model1.align(test_model1, join='inner', axis=1)  # inner join to match hot-encoded columns in test with tran\n",
    "X = data_model1 # get the x feature to tran the model. the target column already removed as we have done inner join in the previous line.\n",
    "# y = data_model1['rating']\n",
    "X_train, X_test, y_train, y_test = train_test_split(X, y, test_size=0.15, stratify=y) # spliting data into train and test"
   ]
  },
  {
   "cell_type": "code",
   "execution_count": 228,
   "metadata": {},
   "outputs": [
    {
     "name": "stderr",
     "output_type": "stream",
     "text": [
      "C:\\Users\\Lap-5\\anaconda3\\lib\\site-packages\\sklearn\\model_selection\\_split.py:676: UserWarning: The least populated class in y has only 2 members, which is less than n_splits=5.\n",
      "  warnings.warn(\n"
     ]
    }
   ],
   "source": [
    "\n",
    "# the lines of code below do the grid search to choose the best parameters for the model.\n",
    "\n",
    "param_grid = {'n_estimators': [800,900,1000,1100,1200,1300,1400,1500],\n",
    "              'max_depth': [8,9,16,17,18,19,20,21,22,23],\n",
    "              'bootstrap': [True, False],\n",
    "              'criterion': ['gini']}\n",
    "\n",
    "\n",
    "f1 = make_scorer(f1_score , average='macro') # define the score the we gonna use.\n",
    "\n",
    "rf = RandomForestClassifier(random_state=42) # define the model\n",
    "\n",
    "rf_model = GridSearchCV(estimator=rf, param_grid=param_grid, cv=5, n_jobs=-1, scoring=f1,refit=True) #define the grid search\n",
    "model1 = rf_model.fit(X, y) # fiting the grid search"
   ]
  },
  {
   "cell_type": "code",
   "execution_count": 229,
   "metadata": {},
   "outputs": [
    {
     "data": {
      "text/plain": [
       "0.6742598451895787"
      ]
     },
     "execution_count": 229,
     "metadata": {},
     "output_type": "execute_result"
    }
   ],
   "source": [
    "model1.best_score_ # print the best socre model get"
   ]
  },
  {
   "cell_type": "markdown",
   "metadata": {},
   "source": [
    "- The best socre model get is 67%"
   ]
  },
  {
   "cell_type": "code",
   "execution_count": 232,
   "metadata": {},
   "outputs": [
    {
     "data": {
      "text/plain": [
       "{'bootstrap': False, 'criterion': 'gini', 'max_depth': 20, 'n_estimators': 800}"
      ]
     },
     "execution_count": 232,
     "metadata": {},
     "output_type": "execute_result"
    }
   ],
   "source": [
    "model1.best_params_ # print the best paramters model gets"
   ]
  },
  {
   "cell_type": "code",
   "execution_count": 233,
   "metadata": {},
   "outputs": [
    {
     "name": "stdout",
     "output_type": "stream",
     "text": [
      "              precision    recall  f1-score   support\n",
      "\n",
      "         1.0       1.00      1.00      1.00         2\n",
      "         2.0       0.92      1.00      0.96        12\n",
      "         3.0       1.00      0.99      1.00       135\n",
      "         4.0       1.00      1.00      1.00       774\n",
      "         5.0       1.00      0.99      1.00       170\n",
      "\n",
      "    accuracy                           1.00      1093\n",
      "   macro avg       0.98      1.00      0.99      1093\n",
      "weighted avg       1.00      1.00      1.00      1093\n",
      "\n"
     ]
    }
   ],
   "source": [
    "y_p = model1.predict(X) # predict the target to use in confusion matrix\n",
    "report = classification_report(y, y_p) # define the confusion matrix \n",
    "print(report) # print the confusion matrix"
   ]
  },
  {
   "cell_type": "code",
   "execution_count": 236,
   "metadata": {},
   "outputs": [],
   "source": [
    "# final = test_model1.copy()\n",
    "# rate = model1.predict(test_model1)\n",
    "# final['rating'] = rate"
   ]
  },
  {
   "cell_type": "code",
   "execution_count": 237,
   "metadata": {},
   "outputs": [],
   "source": [
    "# final['id'] = test_data_ori['id']\n",
    "# final[['id', 'rating']].to_csv('finalV7.csv', index=False)"
   ]
  },
  {
   "cell_type": "code",
   "execution_count": 238,
   "metadata": {},
   "outputs": [
    {
     "name": "stdout",
     "output_type": "stream",
     "text": [
      "<class 'pandas.core.frame.DataFrame'>\n",
      "RangeIndex: 479 entries, 0 to 478\n",
      "Data columns (total 2 columns):\n",
      " #   Column  Non-Null Count  Dtype  \n",
      "---  ------  --------------  -----  \n",
      " 0   id      479 non-null    int64  \n",
      " 1   rating  479 non-null    float64\n",
      "dtypes: float64(1), int64(1)\n",
      "memory usage: 7.6 KB\n"
     ]
    }
   ],
   "source": [
    "# pd.read_csv('finalV7.csv').info()"
   ]
  },
  {
   "cell_type": "code",
   "execution_count": 239,
   "metadata": {},
   "outputs": [
    {
     "name": "stdout",
     "output_type": "stream",
     "text": [
      "              precision    recall  f1-score   support\n",
      "\n",
      "         1.0       1.00      1.00      1.00         2\n",
      "         2.0       0.92      1.00      0.96        12\n",
      "         3.0       1.00      0.99      1.00       135\n",
      "         4.0       1.00      1.00      1.00       774\n",
      "         5.0       1.00      0.99      1.00       170\n",
      "\n",
      "    accuracy                           1.00      1093\n",
      "   macro avg       0.98      1.00      0.99      1093\n",
      "weighted avg       1.00      1.00      1.00      1093\n",
      "\n"
     ]
    }
   ],
   "source": [
    "report = classification_report(y, y_p)\n",
    "print(report)"
   ]
  },
  {
   "cell_type": "markdown",
   "metadata": {},
   "source": [
    "<a id='decision1'></a>\n",
    "## 4.2 Decision Tree no.1"
   ]
  },
  {
   "cell_type": "markdown",
   "metadata": {},
   "source": [
    "- without `product_color` and `product_variation_size_id` columns. Why without those two feature? check the point [Here](#p1)"
   ]
  },
  {
   "cell_type": "code",
   "execution_count": 241,
   "metadata": {},
   "outputs": [
    {
     "name": "stderr",
     "output_type": "stream",
     "text": [
      "C:\\Users\\Lap-5\\anaconda3\\lib\\site-packages\\sklearn\\model_selection\\_split.py:676: UserWarning: The least populated class in y has only 2 members, which is less than n_splits=5.\n",
      "  warnings.warn(\n"
     ]
    },
    {
     "name": "stdout",
     "output_type": "stream",
     "text": [
      "Best Score:  0.6194116169964936\n",
      "\n",
      "\n",
      "Best Parameters:  {'criterion': 'gini', 'max_depth': 17}\n"
     ]
    }
   ],
   "source": [
    "decision_tree = DecisionTreeClassifier() # define the decision tree\n",
    "# parameters to be tried\n",
    "tree_para = {'criterion':['gini','entropy'],'max_depth':[7,8,9,10,11,12,15,16,17,18,19,20,21,22,23,24,25,30,40,50,70,90,120,150]}\n",
    "decision_tree_model1 = GridSearchCV(decision_tree, tree_para, cv=5, refit=True, scoring=f1) # define the grid search\n",
    "decision_tree_model1.fit(X,y) # fitting the grid search\n",
    "print('Best Score: ', decision_tree_model1.best_score_) # print the best socre model get\n",
    "print('\\n')\n",
    "print('Best Parameters: ', decision_tree_model1.best_params_) # print the best paramters model gets"
   ]
  },
  {
   "cell_type": "markdown",
   "metadata": {},
   "source": [
    "<a id='svc1'></a>\n",
    "## 4.3 SVC no.1"
   ]
  },
  {
   "cell_type": "markdown",
   "metadata": {},
   "source": [
    "- without product_color and product_variation_size_id columns. Why without those two feature? check the point Here"
   ]
  },
  {
   "cell_type": "code",
   "execution_count": 246,
   "metadata": {},
   "outputs": [
    {
     "name": "stderr",
     "output_type": "stream",
     "text": [
      "C:\\Users\\Lap-5\\anaconda3\\lib\\site-packages\\sklearn\\model_selection\\_split.py:676: UserWarning: The least populated class in y has only 2 members, which is less than n_splits=4.\n",
      "  warnings.warn(\n"
     ]
    },
    {
     "name": "stdout",
     "output_type": "stream",
     "text": [
      "Best Score:  0.1866559489239856\n",
      "\n",
      "\n",
      "Best Parameters:  {'C': 2, 'degree': 3, 'kernel': 'poly'}\n"
     ]
    }
   ],
   "source": [
    "svc = SVC() # loding the model\n",
    "# define the range of parameters\n",
    "paramters = {\n",
    "    'kernel': ['poly','rbf'],\n",
    "    'degree': np.arange(1,4),\n",
    "    'C': np.arange(1,4),\n",
    "}\n",
    "f1 = make_scorer(f1_score , average='macro') # define the metric\n",
    "GS_SVC = GridSearchCV(svc, param_grid = paramters, refit = True, cv=4, scoring = f1, return_train_score= True) # define the grid search\n",
    "SVC_model = GS_SVC.fit(X, y) # fiting the grid\n",
    "print('Best Score: ', SVC_model.best_score_) # print the best socre model get\n",
    "print('\\n')\n",
    "print('Best Parameters: ', SVC_model.best_params_) # print the best paramters model gets"
   ]
  },
  {
   "cell_type": "markdown",
   "metadata": {},
   "source": [
    "<a id='naive1'></a>\n",
    "## 4.4 Naive Bayes no.1"
   ]
  },
  {
   "cell_type": "markdown",
   "metadata": {},
   "source": [
    "- without product_color and product_variation_size_id columns. Why without those two feature? check the point Here\n"
   ]
  },
  {
   "cell_type": "code",
   "execution_count": 247,
   "metadata": {},
   "outputs": [
    {
     "name": "stdout",
     "output_type": "stream",
     "text": [
      "              precision    recall  f1-score   support\n",
      "\n",
      "         2.0       0.05      1.00      0.10         2\n",
      "         3.0       0.11      0.25      0.16        20\n",
      "         4.0       0.81      0.54      0.65       116\n",
      "         5.0       0.50      0.04      0.07        26\n",
      "\n",
      "    accuracy                           0.43       164\n",
      "   macro avg       0.37      0.46      0.24       164\n",
      "weighted avg       0.67      0.43      0.49       164\n",
      "\n"
     ]
    }
   ],
   "source": [
    "from sklearn.naive_bayes import GaussianNB\n",
    "\n",
    "# Build a Gaussian Classifier\n",
    "model = GaussianNB()\n",
    "\n",
    "# Model training\n",
    "model.fit(X_train, y_train)\n",
    "y_p = model.predict(X_test) # model prediction\n",
    "\n",
    "report = classification_report(y_test, y_p) # confusion matrix\n",
    "print(report) # printing the confusion matrix"
   ]
  },
  {
   "cell_type": "markdown",
   "metadata": {},
   "source": [
    "<a id='forest2'></a>\n",
    "## 4.5 Random Forest no.2"
   ]
  },
  {
   "cell_type": "markdown",
   "metadata": {},
   "source": [
    "- The second model below is without `origin_country`, `product_variation_size_id` and `origin_country` column. Why droping `origin_country`? check the point [here](#p2)"
   ]
  },
  {
   "cell_type": "code",
   "execution_count": 248,
   "metadata": {},
   "outputs": [],
   "source": [
    "# here we put data preprocessing steps in one function to make things easier\n",
    "def data_preprocessing_2(data):\n",
    "     # droping irrelevant features\n",
    "    data = data.drop(['merchant_profile_picture', 'urgency_text', 'currency_buyer', 'merchant_name', 'merchant_title', 'crawl_month', 'theme', 'merchant_profile_picture', 'merchant_id', 'shipping_option_name', 'merchant_info_subtitle', 'tags', 'id'], axis=1)\n",
    "    # drop coulmns which have issues\n",
    "    data = data.drop(['product_color', 'product_variation_size_id', 'origin_country'], axis=1) # drop columns\n",
    "#     data['merchant_rating'] = data['merchant_rating'].apply(np.ceil)\n",
    "    data['merchant_rating'] = np.round(data['merchant_rating'], decimals = 3) # round to the thired decimal place\n",
    "    data['price'] = np.round(data['price'], decimals = 3) # round to the thired decimal place\n",
    "    data['retail_price'] = np.round(data['retail_price'], decimals = 3) # round to the thired decimal place\n",
    "    data['has_urgency_banner'].fillna(0, inplace=True)   # filling null values by 0\n",
    "    data = data.fillna(method='ffill') # fill other missing values by prvious one.\n",
    "    return data # return the preprocessed data"
   ]
  },
  {
   "cell_type": "code",
   "execution_count": null,
   "metadata": {},
   "outputs": [],
   "source": []
  },
  {
   "cell_type": "code",
   "execution_count": 249,
   "metadata": {},
   "outputs": [],
   "source": [
    "data_model1 = data_preprocessing_2(df) # calling the data_preprocessing_2 function for training data.\n",
    "y = data_model1['rating'] # get the target column\n",
    "test_data_ori = pd.read_csv('test_new.csv') # read the test data\n",
    "test_data = data_preprocessing_2(test_data_ori) # data_preprocessing_2 for testing data\n",
    "data_model1, test_model1 = data_model1.align(test_model1, join='inner', axis=1)  # inner join to match hot-encoded columns in test with train\n",
    "X = data_model1 # get the feature without the target column\n",
    "# y = data_model1['rating']\n",
    "X_train, X_test, y_train, y_test = train_test_split(X, y, test_size=0.15, stratify=y) # split the data into train and test"
   ]
  },
  {
   "cell_type": "code",
   "execution_count": 250,
   "metadata": {},
   "outputs": [
    {
     "name": "stderr",
     "output_type": "stream",
     "text": [
      "C:\\Users\\Lap-5\\anaconda3\\lib\\site-packages\\sklearn\\model_selection\\_split.py:676: UserWarning: The least populated class in y has only 2 members, which is less than n_splits=4.\n",
      "  warnings.warn(\n"
     ]
    }
   ],
   "source": [
    "# the lines of code below do the grid search to choose the best parameters for the model.\n",
    "param_grid = {'n_estimators': [600,700,800,900,1000],\n",
    "              'max_depth': [15,16,17,18,19,20,21,22,23,24,25,26,27,28,29,30],\n",
    "              'bootstrap': [True, False],\n",
    "              'criterion': ['gini']}\n",
    "\n",
    "f1 = make_scorer(f1_score , average='macro') # define the score the we gonna use.\n",
    "\n",
    "rf2 = RandomForestClassifier(random_state=42) # define the model\n",
    "\n",
    "rf_model2 = GridSearchCV(estimator=rf, param_grid=param_grid, cv=4, n_jobs=-1, scoring=f1,refit=True) #define the grid search\n",
    "model2 = rf_model2.fit(X, y) # fiting the grid search"
   ]
  },
  {
   "cell_type": "code",
   "execution_count": 251,
   "metadata": {},
   "outputs": [
    {
     "data": {
      "text/plain": [
       "{'bootstrap': False, 'criterion': 'gini', 'max_depth': 15, 'n_estimators': 800}"
      ]
     },
     "execution_count": 251,
     "metadata": {},
     "output_type": "execute_result"
    }
   ],
   "source": [
    "model2.best_params_ # print the best paramters model gets"
   ]
  },
  {
   "cell_type": "code",
   "execution_count": 252,
   "metadata": {},
   "outputs": [
    {
     "data": {
      "text/plain": [
       "0.648573581832226"
      ]
     },
     "execution_count": 252,
     "metadata": {},
     "output_type": "execute_result"
    }
   ],
   "source": [
    "model2.best_score_ # print the best socre model get"
   ]
  },
  {
   "cell_type": "markdown",
   "metadata": {},
   "source": [
    "<a id='decision2'></a>\n",
    "## 4.6 Decision Tree no.2"
   ]
  },
  {
   "cell_type": "markdown",
   "metadata": {},
   "source": [
    "- The second model below is without `origin_country`, `product_variation_size_id` and `origin_country` column. Why droping `origin_country`? check the point [here](#p2)"
   ]
  },
  {
   "cell_type": "code",
   "execution_count": 253,
   "metadata": {},
   "outputs": [
    {
     "name": "stderr",
     "output_type": "stream",
     "text": [
      "C:\\Users\\Lap-5\\anaconda3\\lib\\site-packages\\sklearn\\model_selection\\_split.py:676: UserWarning: The least populated class in y has only 2 members, which is less than n_splits=5.\n",
      "  warnings.warn(\n"
     ]
    },
    {
     "name": "stdout",
     "output_type": "stream",
     "text": [
      "Best Score:  0.6363959669405763\n",
      "\n",
      "\n",
      "Best Parameters:  {'criterion': 'gini', 'max_depth': 9, 'min_samples_leaf': 1, 'min_samples_split': 2}\n"
     ]
    },
    {
     "name": "stderr",
     "output_type": "stream",
     "text": [
      "C:\\Users\\Lap-5\\anaconda3\\lib\\site-packages\\sklearn\\model_selection\\_validation.py:372: FitFailedWarning: \n",
      "2430 fits failed out of a total of 21870.\n",
      "The score on these train-test partitions for these parameters will be set to nan.\n",
      "If these failures are not expected, you can try to debug them by setting error_score='raise'.\n",
      "\n",
      "Below are more details about the failures:\n",
      "--------------------------------------------------------------------------------\n",
      "2430 fits failed with the following error:\n",
      "Traceback (most recent call last):\n",
      "  File \"C:\\Users\\Lap-5\\anaconda3\\lib\\site-packages\\sklearn\\model_selection\\_validation.py\", line 680, in _fit_and_score\n",
      "    estimator.fit(X_train, y_train, **fit_params)\n",
      "  File \"C:\\Users\\Lap-5\\anaconda3\\lib\\site-packages\\sklearn\\tree\\_classes.py\", line 937, in fit\n",
      "    super().fit(\n",
      "  File \"C:\\Users\\Lap-5\\anaconda3\\lib\\site-packages\\sklearn\\tree\\_classes.py\", line 250, in fit\n",
      "    raise ValueError(\n",
      "ValueError: min_samples_split must be an integer greater than 1 or a float in (0.0, 1.0]; got the integer 1\n",
      "\n",
      "  warnings.warn(some_fits_failed_message, FitFailedWarning)\n",
      "C:\\Users\\Lap-5\\anaconda3\\lib\\site-packages\\sklearn\\model_selection\\_search.py:969: UserWarning: One or more of the test scores are non-finite: [       nan 0.47296834 0.47296834 ... 0.43191785 0.42760869 0.43549596]\n",
      "  warnings.warn(\n"
     ]
    }
   ],
   "source": [
    "decision_tree = DecisionTreeClassifier() # define the decision tree\n",
    "# parameters to be tried\n",
    "tree_para = {'criterion':['gini','entropy'],\n",
    "             'max_depth':[4,5,6,7,8,9,10,11,12,15,16,17,18,19,20,21,22,23,24,25,30,40,50,70,90,120,150],\n",
    "             'min_samples_split':list(range(1,10)),\n",
    "             'min_samples_leaf':list(range(1,10))\n",
    "            }\n",
    "decision_tree_model1 = GridSearchCV(decision_tree, tree_para, cv=5, refit=True, scoring=f1) # define the grid search\n",
    "decision_tree_model1.fit(X,y) # fitting the grid search\n",
    "print('Best Score: ', decision_tree_model1.best_score_) # print the best socre model get\n",
    "print('\\n')\n",
    "print('Best Parameters: ', decision_tree_model1.best_params_) # print the best paramters model gets"
   ]
  },
  {
   "cell_type": "markdown",
   "metadata": {},
   "source": [
    "<a id='svc2'></a>\n",
    "## 4.7 SVC no.2\n"
   ]
  },
  {
   "cell_type": "markdown",
   "metadata": {},
   "source": [
    "- The second model below is without `origin_country`, `product_variation_size_id` and `origin_country` column. Why droping `origin_country`? check the point [here](#p2)"
   ]
  },
  {
   "cell_type": "code",
   "execution_count": 254,
   "metadata": {},
   "outputs": [
    {
     "name": "stderr",
     "output_type": "stream",
     "text": [
      "C:\\Users\\Lap-5\\anaconda3\\lib\\site-packages\\sklearn\\model_selection\\_split.py:676: UserWarning: The least populated class in y has only 2 members, which is less than n_splits=4.\n",
      "  warnings.warn(\n"
     ]
    },
    {
     "name": "stdout",
     "output_type": "stream",
     "text": [
      "Best Score:  0.1866559489239856\n",
      "\n",
      "\n",
      "Best Parameters:  {'C': 1, 'degree': 3, 'kernel': 'poly'}\n"
     ]
    }
   ],
   "source": [
    "svc = SVC() # loding the model\n",
    "# define the range of parameters\n",
    "paramters = {\n",
    "    'kernel': ['poly','rbf'],\n",
    "    'degree': np.arange(1,4),\n",
    "    'C': np.arange(1,3),\n",
    "}\n",
    "f1 = make_scorer(f1_score , average='macro') # define the metric\n",
    "GS_SVC = GridSearchCV(svc, param_grid = paramters, refit = True, cv=4, scoring = f1, return_train_score= True) # define the grid search\n",
    "SVC_model = GS_SVC.fit(X, y) # fiting the grid\n",
    "print('Best Score: ', SVC_model.best_score_) # print the best socre model get\n",
    "print('\\n')\n",
    "print('Best Parameters: ', SVC_model.best_params_) # print the best paramters model gets"
   ]
  },
  {
   "cell_type": "markdown",
   "metadata": {},
   "source": [
    "<a id='naive2'></a>\n",
    "\n",
    "## 4.8 Naive Bayes no.2"
   ]
  },
  {
   "cell_type": "markdown",
   "metadata": {},
   "source": [
    "- The second model below is without `origin_country`, `product_variation_size_id` and `origin_country` column. Why droping `origin_country`? check the point [here](#p2)"
   ]
  },
  {
   "cell_type": "code",
   "execution_count": 255,
   "metadata": {},
   "outputs": [
    {
     "name": "stdout",
     "output_type": "stream",
     "text": [
      "              precision    recall  f1-score   support\n",
      "\n",
      "         2.0       0.08      1.00      0.15         2\n",
      "         3.0       0.14      0.55      0.23        20\n",
      "         4.0       0.82      0.41      0.54       116\n",
      "         5.0       0.00      0.00      0.00        26\n",
      "\n",
      "    accuracy                           0.37       164\n",
      "   macro avg       0.26      0.49      0.23       164\n",
      "weighted avg       0.60      0.37      0.41       164\n",
      "\n"
     ]
    }
   ],
   "source": [
    "from sklearn.naive_bayes import GaussianNB\n",
    "\n",
    "# Build a Gaussian Classifier\n",
    "model = GaussianNB()\n",
    "\n",
    "# Model training\n",
    "model.fit(X_train, y_train)\n",
    "y_p = model.predict(X_test) # model prediction\n",
    "\n",
    "report = classification_report(y_test, y_p) # confusion matrix\n",
    "print(report) # printing the confusion matrix"
   ]
  },
  {
   "cell_type": "markdown",
   "metadata": {},
   "source": [
    "<a id='forest3'></a>\n",
    "## 4.9 Random Forest no.3"
   ]
  },
  {
   "cell_type": "markdown",
   "metadata": {},
   "source": [
    "- the third model below uses all columns"
   ]
  },
  {
   "cell_type": "code",
   "execution_count": 258,
   "metadata": {},
   "outputs": [],
   "source": [
    "# here we put data preprocessing steps in one function to make things easier\n",
    "def data_preprocessing_3(data):\n",
    "    data = data.drop(['merchant_profile_picture', 'urgency_text', 'currency_buyer', 'merchant_name', 'merchant_title', 'crawl_month', 'theme', 'merchant_profile_picture', 'merchant_id', 'shipping_option_name', 'merchant_info_subtitle', 'tags', 'id'], axis=1)\n",
    "    data['product_variation_size_id'] = data['product_variation_size_id'].apply(rename_size_values) # applying the function to correct values in the column\n",
    "    data['product_color'] = data['product_color'].apply(rename_color_values) # applying the function to correct values in the column\n",
    "#     data = data.drop(['product_color', 'product_variation_size_id', 'origin_country'], axis=1)\n",
    "#     data['merchant_rating'] = data['merchant_rating'].apply(np.ceil)\n",
    "    data['merchant_rating'] = np.round(data['merchant_rating'], decimals = 3)  # round to the thired decimal place\n",
    "    data['price'] = np.round(data['price'], decimals = 3)  # round to the thired decimal place\n",
    "    data['retail_price'] = np.round(data['retail_price'], decimals = 3)  # round to the thired decimal place\n",
    "    data['has_urgency_banner'].fillna(0, inplace=True) # filling null values by 0\n",
    "    data = data.fillna(method='ffill') # fill other missing values by prvious one.\n",
    "    return data # return cleaned data"
   ]
  },
  {
   "cell_type": "code",
   "execution_count": 259,
   "metadata": {},
   "outputs": [],
   "source": [
    "data_model3 = data_preprocessing_3(df) # call the data_preprocessing_3 function with training data\n",
    "# data_model1['merchant_rating'] = data_model1['merchant_rating'].apply(np.ceil)\n",
    "y = data_model3['rating'] # get the target column\n",
    "test_data_ori = pd.read_csv('test_new.csv') # read the test data set\n",
    "test_data = data_preprocessing_3(test_data_ori) # call the data_preprocessing_3 with test data.\n",
    "data_model3 = pd.get_dummies(data_model3, prefix=['origin_country', 'product_variation_size_id', 'product_color']) # one-hot encoding \n",
    "test_model1 = pd.get_dummies(test_data, prefix=['origin_country', 'product_variation_size_id', 'product_color'])  # one-hot encoding\n",
    "data_model3, test_model1 = data_model1.align(test_model1, join='inner', axis=1)  # inner join to match hot-encoded columns in test with tran\n",
    "X = data_model1 # get the feature without the target column\n",
    "X_train, X_test, y_train, y_test = train_test_split(X, y, test_size=0.15, stratify=y) # split the data into train and test"
   ]
  },
  {
   "cell_type": "code",
   "execution_count": 260,
   "metadata": {},
   "outputs": [],
   "source": [
    "# data_model3 = df_p1.copy()"
   ]
  },
  {
   "cell_type": "code",
   "execution_count": 261,
   "metadata": {},
   "outputs": [],
   "source": [
    "# data_model3 = pd.get_dummies(data_model3, prefix=['origin_country', 'product_variation_size_id', 'product_color'])"
   ]
  },
  {
   "cell_type": "code",
   "execution_count": 262,
   "metadata": {},
   "outputs": [],
   "source": [
    "# data_model3 = df_p1.copy()\n",
    "# data_model3 = pd.get_dummies(data_model3, prefix=['origin_country', 'product_variation_size_id', 'product_color'])\n",
    "# X = data_model3.drop('rating', axis=1)\n",
    "# y = data_model3['rating']\n",
    "# from sklearn.model_selection import train_test_split\n",
    "# X_train, X_test, y_train, y_test = train_test_split(X, y, test_size=0.15, stratify=y)"
   ]
  },
  {
   "cell_type": "code",
   "execution_count": 263,
   "metadata": {},
   "outputs": [
    {
     "name": "stderr",
     "output_type": "stream",
     "text": [
      "C:\\Users\\Lap-5\\anaconda3\\lib\\site-packages\\sklearn\\model_selection\\_split.py:676: UserWarning: The least populated class in y has only 2 members, which is less than n_splits=4.\n",
      "  warnings.warn(\n"
     ]
    }
   ],
   "source": [
    "\n",
    "param_grid = {'n_estimators': [700,800,900,1000, 1500 ,2000],\n",
    "              'max_depth': [10,12,13,16,17,18,20,30,40],\n",
    "              'bootstrap': [True, False],\n",
    "              'criterion': ['gini', 'entropy']}\n",
    "\n",
    "\n",
    "f1 = make_scorer(f1_score , average='macro') # define the score the we gonna use.\n",
    "\n",
    "rf3 = RandomForestClassifier(random_state=42) # define the model\n",
    "\n",
    "rf_model3 = GridSearchCV(estimator=rf, param_grid=param_grid, cv=4, n_jobs=-1, scoring=f1,refit=True) #define the grid search\n",
    "model3 = rf_model3.fit(X, y) # fiting the grid search"
   ]
  },
  {
   "cell_type": "code",
   "execution_count": 264,
   "metadata": {},
   "outputs": [
    {
     "data": {
      "text/plain": [
       "{'bootstrap': False, 'criterion': 'gini', 'max_depth': 15, 'n_estimators': 800}"
      ]
     },
     "execution_count": 264,
     "metadata": {},
     "output_type": "execute_result"
    }
   ],
   "source": [
    "model2.best_params_ # print the best paramters model gets"
   ]
  },
  {
   "cell_type": "code",
   "execution_count": 265,
   "metadata": {},
   "outputs": [
    {
     "data": {
      "text/plain": [
       "0.648573581832226"
      ]
     },
     "execution_count": 265,
     "metadata": {},
     "output_type": "execute_result"
    }
   ],
   "source": [
    "model2.best_score_ # print the best socre model get"
   ]
  },
  {
   "cell_type": "markdown",
   "metadata": {},
   "source": [
    "<a id='decision3'></a>\n",
    "## 4.10 Decision Tree no.3"
   ]
  },
  {
   "cell_type": "markdown",
   "metadata": {},
   "source": [
    "- the third decision tree below uses all columns"
   ]
  },
  {
   "cell_type": "code",
   "execution_count": 266,
   "metadata": {},
   "outputs": [
    {
     "name": "stderr",
     "output_type": "stream",
     "text": [
      "C:\\Users\\Lap-5\\anaconda3\\lib\\site-packages\\sklearn\\model_selection\\_split.py:676: UserWarning: The least populated class in y has only 2 members, which is less than n_splits=5.\n",
      "  warnings.warn(\n"
     ]
    },
    {
     "name": "stdout",
     "output_type": "stream",
     "text": [
      "Best Score:  0.641236383033392\n",
      "\n",
      "\n",
      "Best Parameters:  {'criterion': 'gini', 'max_depth': 9}\n"
     ]
    }
   ],
   "source": [
    "decision_tree = DecisionTreeClassifier() # define the decision tree\n",
    "# parameters to be tried\n",
    "tree_para = {'criterion':['gini','entropy'],\n",
    "             'max_depth':[4,5,6,7,8,9,10,11,12,15,16,17,18,19,20,21,22,23,24,25,30,40,50,70,90,120,150],\n",
    "            }\n",
    "decision_tree_model1 = GridSearchCV(decision_tree, tree_para, cv=5, refit=True, scoring=f1) # define the grid search\n",
    "decision_tree_model1.fit(X,y) # fitting the grid search\n",
    "print('Best Score: ', decision_tree_model1.best_score_) # print the best socre model get\n",
    "print('\\n')\n",
    "print('Best Parameters: ', decision_tree_model1.best_params_) # print the best paramters model gets"
   ]
  },
  {
   "cell_type": "markdown",
   "metadata": {},
   "source": [
    "<a id='svc3'></a>\n",
    "## 4.11 SVC no.3"
   ]
  },
  {
   "cell_type": "markdown",
   "metadata": {},
   "source": [
    "- the third SVC below uses all columns"
   ]
  },
  {
   "cell_type": "code",
   "execution_count": 267,
   "metadata": {},
   "outputs": [
    {
     "name": "stderr",
     "output_type": "stream",
     "text": [
      "C:\\Users\\Lap-5\\anaconda3\\lib\\site-packages\\sklearn\\model_selection\\_split.py:676: UserWarning: The least populated class in y has only 2 members, which is less than n_splits=4.\n",
      "  warnings.warn(\n"
     ]
    },
    {
     "name": "stdout",
     "output_type": "stream",
     "text": [
      "Best Score:  0.1866559489239856\n",
      "\n",
      "\n",
      "Best Parameters:  {'C': 1, 'degree': 3, 'kernel': 'poly'}\n"
     ]
    }
   ],
   "source": [
    "svc = SVC() # loding the model\n",
    "# define the range of parameters\n",
    "paramters = {\n",
    "    'kernel': ['poly','rbf'],\n",
    "    'degree': np.arange(1,5),\n",
    "    'C': np.arange(1,3),\n",
    "}\n",
    "f1 = make_scorer(f1_score , average='macro') # define the metric\n",
    "GS_SVC = GridSearchCV(svc, param_grid = paramters, refit = True, cv=4, scoring = f1, return_train_score= True) # define the grid search\n",
    "SVC_model = GS_SVC.fit(X, y) # fiting the grid\n",
    "print('Best Score: ', SVC_model.best_score_) # print the best socre model get\n",
    "print('\\n')\n",
    "print('Best Parameters: ', SVC_model.best_params_) # print the best paramters model gets"
   ]
  },
  {
   "cell_type": "markdown",
   "metadata": {},
   "source": [
    "<a id='naive3'></a>\n",
    "## 4.12 Naive Bayes no.3"
   ]
  },
  {
   "cell_type": "markdown",
   "metadata": {},
   "source": [
    "- The third Naive Bayes below uses all columns"
   ]
  },
  {
   "cell_type": "code",
   "execution_count": 268,
   "metadata": {},
   "outputs": [
    {
     "name": "stdout",
     "output_type": "stream",
     "text": [
      "              precision    recall  f1-score   support\n",
      "\n",
      "         2.0       0.07      1.00      0.14         2\n",
      "         3.0       0.18      0.55      0.27        20\n",
      "         4.0       0.83      0.51      0.63       116\n",
      "         5.0       0.50      0.08      0.13        26\n",
      "\n",
      "    accuracy                           0.45       164\n",
      "   macro avg       0.40      0.53      0.29       164\n",
      "weighted avg       0.69      0.45      0.50       164\n",
      "\n"
     ]
    }
   ],
   "source": [
    "from sklearn.naive_bayes import GaussianNB\n",
    "\n",
    "# Build a Gaussian Classifier\n",
    "model = GaussianNB()\n",
    "\n",
    "# Model training\n",
    "model.fit(X_train, y_train)\n",
    "y_p = model.predict(X_test) # model prediction\n",
    "\n",
    "report = classification_report(y_test, y_p) # confusion matrix\n",
    "print(report) # printing the confusion matrix"
   ]
  },
  {
   "cell_type": "markdown",
   "metadata": {},
   "source": [
    "<a id='forest4'></a>\n",
    "## 4.13 Random Forest no.4"
   ]
  },
  {
   "cell_type": "markdown",
   "metadata": {},
   "source": [
    "- Only using selected feature that correlated with the output"
   ]
  },
  {
   "cell_type": "code",
   "execution_count": 269,
   "metadata": {},
   "outputs": [],
   "source": [
    "# here we put data preprocessing steps in one function to make things easier\n",
    "def data_preprocessing_4(data):\n",
    "    data = data[['price', 'shipping_option_price', 'shipping_is_express', 'merchant_rating', 'rating']] # select only correlated feature to the output\n",
    "    data['merchant_rating'] = np.round(data['merchant_rating'], decimals = 3) # round to the third decimal place\n",
    "    data['price'] = np.round(data['price'], decimals = 3) # round to the third decimal place\n",
    "    # data['retail_price'] = np.round(data['retail_price'], decimals = 3)\n",
    "    data = data.fillna(method='ffill')  # fill null by previous value.\n",
    "    return data # return cleaned data"
   ]
  },
  {
   "cell_type": "code",
   "execution_count": 270,
   "metadata": {},
   "outputs": [
    {
     "name": "stderr",
     "output_type": "stream",
     "text": [
      "C:\\Users\\Lap-5\\AppData\\Local\\Temp\\ipykernel_15476\\1452655132.py:4: SettingWithCopyWarning: \n",
      "A value is trying to be set on a copy of a slice from a DataFrame.\n",
      "Try using .loc[row_indexer,col_indexer] = value instead\n",
      "\n",
      "See the caveats in the documentation: https://pandas.pydata.org/pandas-docs/stable/user_guide/indexing.html#returning-a-view-versus-a-copy\n",
      "  data['merchant_rating'] = np.round(data['merchant_rating'], decimals = 3) # round to the third decimal place\n",
      "C:\\Users\\Lap-5\\AppData\\Local\\Temp\\ipykernel_15476\\1452655132.py:5: SettingWithCopyWarning: \n",
      "A value is trying to be set on a copy of a slice from a DataFrame.\n",
      "Try using .loc[row_indexer,col_indexer] = value instead\n",
      "\n",
      "See the caveats in the documentation: https://pandas.pydata.org/pandas-docs/stable/user_guide/indexing.html#returning-a-view-versus-a-copy\n",
      "  data['price'] = np.round(data['price'], decimals = 3) # round to the third decimal place\n"
     ]
    }
   ],
   "source": [
    "data_model6 = data_preprocessing_4(df) #df_p1.drop(['product_color', 'product_variation_size_id'], axis=1)\n",
    "# data_model1['merchant_rating'] = data_model1['merchant_rating'].apply(np.ceil)\n",
    "y = data_model6['rating'] # get the target column\n",
    "test_data_ori = pd.read_csv('test_new.csv') # read test data\n",
    "\n",
    "# test_data = data_preprocessing_4(test_data_ori)\n",
    "\n",
    "test_data = test_data[['price', 'shipping_option_price', 'shipping_is_express', 'merchant_rating']] # select only correlated feature to the output for test set\n",
    "test_data['merchant_rating'] = np.round(test_data['merchant_rating'], decimals = 3) # round to third decimal place \n",
    "\n",
    "test_data['price'] = np.round(test_data['price'], decimals = 3) # round to third decimal place \n",
    "#  data['retail_price'] = np.round(data['retail_price'], decimals = 3)\n",
    "test_data = test_data.fillna(method='ffill') # fill missing data in test set with previous value in \n",
    "    \n",
    "data_model6, test_model1 = data_model6.align(test_model1, join='inner', axis=1)  # inner join to match hot-encoded columns in test with tran\n",
    "X = data_model6 #.drop('rating', axis=1)\n",
    "# y = data_model1['rating']\n",
    "X_train, X_test, y_train, y_test = train_test_split(X, y, test_size=0.15, stratify=y) # split the training data into train and test"
   ]
  },
  {
   "cell_type": "code",
   "execution_count": 271,
   "metadata": {},
   "outputs": [
    {
     "name": "stderr",
     "output_type": "stream",
     "text": [
      "C:\\Users\\Lap-5\\anaconda3\\lib\\site-packages\\sklearn\\model_selection\\_split.py:676: UserWarning: The least populated class in y has only 2 members, which is less than n_splits=4.\n",
      "  warnings.warn(\n"
     ]
    }
   ],
   "source": [
    "\n",
    "# the lines of code below do the grid search to choose the best parameters for the model.\n",
    "\n",
    "param_grid = {'n_estimators': [700,800,900,1000, 1500 ,2000],\n",
    "              'max_depth': [10,12,13,16,17,18,20,30,40],\n",
    "              'bootstrap': [True, False],\n",
    "              'criterion': ['gini', 'entropy']}\n",
    "\n",
    "\n",
    "f1 = make_scorer(f1_score , average='macro') # define the score the we gonna use.\n",
    "\n",
    "rf3 = RandomForestClassifier(random_state=42)  # define the model\n",
    "\n",
    "rf_model5 = GridSearchCV(estimator=rf, param_grid=param_grid, cv=4, n_jobs=-1, scoring=f1,refit=True) #define the grid search\n",
    "model5 = rf_model5.fit(X, y) # fiting the grid search"
   ]
  },
  {
   "cell_type": "code",
   "execution_count": 272,
   "metadata": {},
   "outputs": [
    {
     "data": {
      "text/plain": [
       "0.5168276317824951"
      ]
     },
     "execution_count": 272,
     "metadata": {},
     "output_type": "execute_result"
    }
   ],
   "source": [
    "model5.best_score_ # print the best socre model get"
   ]
  },
  {
   "cell_type": "markdown",
   "metadata": {},
   "source": [
    "<a id='decision4'></a>\n",
    "## 4.14 Decision Tree no.4"
   ]
  },
  {
   "cell_type": "markdown",
   "metadata": {},
   "source": [
    "- Only using selected feature that correlated with the output"
   ]
  },
  {
   "cell_type": "code",
   "execution_count": 273,
   "metadata": {},
   "outputs": [
    {
     "name": "stderr",
     "output_type": "stream",
     "text": [
      "C:\\Users\\Lap-5\\anaconda3\\lib\\site-packages\\sklearn\\model_selection\\_split.py:676: UserWarning: The least populated class in y has only 2 members, which is less than n_splits=5.\n",
      "  warnings.warn(\n"
     ]
    },
    {
     "name": "stdout",
     "output_type": "stream",
     "text": [
      "Best Score:  0.5017020527429688\n",
      "\n",
      "\n",
      "Best Parameters:  {'criterion': 'gini', 'max_depth': 150}\n"
     ]
    }
   ],
   "source": [
    "decision_tree = DecisionTreeClassifier() # define the decision tree\n",
    "# parameters to be tried\n",
    "tree_para = {'criterion':['gini','entropy'],\n",
    "             'max_depth':[4,5,6,7,8,9,10,11,12,15,16,17,18,19,20,21,22,23,24,25,30,40,50,70,90,120,150],\n",
    "            }\n",
    "decision_tree_model1 = GridSearchCV(decision_tree, tree_para, cv=5, refit=True, scoring=f1) # define the grid search\n",
    "decision_tree_model1.fit(X,y) # fitting the grid search\n",
    "print('Best Score: ', decision_tree_model1.best_score_) # print the best socre model get\n",
    "print('\\n')\n",
    "print('Best Parameters: ', decision_tree_model1.best_params_) # print the best paramters model gets"
   ]
  },
  {
   "cell_type": "markdown",
   "metadata": {},
   "source": [
    "<a id='svc4'></a>\n",
    "## 4.15 SVC no.4"
   ]
  },
  {
   "cell_type": "markdown",
   "metadata": {},
   "source": [
    "- Only using selected feature that correlated with the output"
   ]
  },
  {
   "cell_type": "code",
   "execution_count": 274,
   "metadata": {},
   "outputs": [
    {
     "name": "stderr",
     "output_type": "stream",
     "text": [
      "C:\\Users\\Lap-5\\anaconda3\\lib\\site-packages\\sklearn\\model_selection\\_split.py:676: UserWarning: The least populated class in y has only 2 members, which is less than n_splits=4.\n",
      "  warnings.warn(\n"
     ]
    },
    {
     "name": "stdout",
     "output_type": "stream",
     "text": [
      "Best Score:  0.19142186960285396\n",
      "\n",
      "\n",
      "Best Parameters:  {'C': 3, 'degree': 1, 'kernel': 'rbf'}\n"
     ]
    }
   ],
   "source": [
    "svc = SVC() # loding the model\n",
    "# define the range of parameters\n",
    "paramters = {\n",
    "    'kernel': ['poly','rbf'],\n",
    "    'degree': np.arange(1,4),\n",
    "    'C': np.arange(1,4),\n",
    "}\n",
    "f1 = make_scorer(f1_score , average='macro') # define the metric\n",
    "GS_SVC = GridSearchCV(svc, param_grid = paramters, refit = True, cv=4, scoring = f1, return_train_score= True) # define the grid search\n",
    "SVC_model = GS_SVC.fit(X, y) # fiting the grid\n",
    "print('Best Score: ', SVC_model.best_score_) # print the best socre model get\n",
    "print('\\n')\n",
    "print('Best Parameters: ', SVC_model.best_params_) # print the best paramters model gets"
   ]
  },
  {
   "cell_type": "code",
   "execution_count": 275,
   "metadata": {},
   "outputs": [
    {
     "data": {
      "text/plain": [
       "0.19142186960285396"
      ]
     },
     "execution_count": 275,
     "metadata": {},
     "output_type": "execute_result"
    }
   ],
   "source": [
    "SVC_model.best_score_ # printing the best score"
   ]
  },
  {
   "cell_type": "markdown",
   "metadata": {},
   "source": [
    "<a id='naive4'></a>\n",
    "## 4.16 Naive Bayes no.4"
   ]
  },
  {
   "cell_type": "markdown",
   "metadata": {},
   "source": [
    "- Only using selected feature that correlated with the output"
   ]
  },
  {
   "cell_type": "code",
   "execution_count": 276,
   "metadata": {},
   "outputs": [
    {
     "name": "stdout",
     "output_type": "stream",
     "text": [
      "              precision    recall  f1-score   support\n",
      "\n",
      "         2.0       0.00      0.00      0.00         2\n",
      "         3.0       1.00      0.15      0.26        20\n",
      "         4.0       0.72      1.00      0.84       116\n",
      "         5.0       0.00      0.00      0.00        26\n",
      "\n",
      "    accuracy                           0.73       164\n",
      "   macro avg       0.43      0.29      0.27       164\n",
      "weighted avg       0.63      0.73      0.62       164\n",
      "\n"
     ]
    },
    {
     "name": "stderr",
     "output_type": "stream",
     "text": [
      "C:\\Users\\Lap-5\\anaconda3\\lib\\site-packages\\sklearn\\metrics\\_classification.py:1318: UndefinedMetricWarning: Precision and F-score are ill-defined and being set to 0.0 in labels with no predicted samples. Use `zero_division` parameter to control this behavior.\n",
      "  _warn_prf(average, modifier, msg_start, len(result))\n",
      "C:\\Users\\Lap-5\\anaconda3\\lib\\site-packages\\sklearn\\metrics\\_classification.py:1318: UndefinedMetricWarning: Precision and F-score are ill-defined and being set to 0.0 in labels with no predicted samples. Use `zero_division` parameter to control this behavior.\n",
      "  _warn_prf(average, modifier, msg_start, len(result))\n",
      "C:\\Users\\Lap-5\\anaconda3\\lib\\site-packages\\sklearn\\metrics\\_classification.py:1318: UndefinedMetricWarning: Precision and F-score are ill-defined and being set to 0.0 in labels with no predicted samples. Use `zero_division` parameter to control this behavior.\n",
      "  _warn_prf(average, modifier, msg_start, len(result))\n"
     ]
    }
   ],
   "source": [
    "from sklearn.naive_bayes import GaussianNB\n",
    "\n",
    "# Build a Gaussian Classifier\n",
    "model = GaussianNB()\n",
    "\n",
    "# Model training\n",
    "model.fit(X_train, y_train)\n",
    "y_p = model.predict(X_test) # model prediction\n",
    "\n",
    "report = classification_report(y_test, y_p) # confusion matrix\n",
    "print(report) # print the confusion matrix"
   ]
  },
  {
   "cell_type": "markdown",
   "metadata": {},
   "source": [
    "<a id='con'></a>\n",
    "# 5. Conclusion:"
   ]
  },
  {
   "cell_type": "markdown",
   "metadata": {},
   "source": [
    "- The best model that gets the highest f1-score is the [Random Forest no.1](#forest1) which is <b>67%</b>\n",
    "- The second model is the [Random Forest no.2](#forest2) which get <b>64%</b> in f1-score\n",
    "- The third model is [Decision Tree no.1](#decision1) which get <b>61.9%</b> in f1-score\n",
    "- I tried the same model with and without some feature as some features have some incorrect and missed values that were hard to manipulate and fix.\n",
    "- The naive bayes and SVC did not do well because naive bayes assumes dependency between features and SVC got worse with a lot of features and Decision Tree and random forest did well because of the assumption in the next point\n",
    "- After looking at the data and the values of features we made an assumption which is the model might not be good if we only used correlated feature with the target variable without taking the correlation between combined feature and target variable in our consideration for ex: the product may have a higher rate its color is black and its size XL but the color only or the size only give bad correlation. so we decided to use most of the features with a model that takes this combination in its consideration as it uses entropy and information gain metrics with different combination of features so I assumed that decision tree or random forest would be the best one for this and they were."
   ]
  },
  {
   "cell_type": "markdown",
   "metadata": {},
   "source": [
    "<a id='ref'></a>\n",
    "# 6. References"
   ]
  },
  {
   "cell_type": "markdown",
   "metadata": {},
   "source": [
    "[1.] https://thinkingneuron.com/how-to-measure-the-correlation-between-two-categorical-variables-in-python/\n",
    "<br>\n",
    "[2.] https://www.geeksforgeeks.org/difference-between-classification-and-prediction-methods-in-data-mining/\n",
    "<br>\n",
    "[3.] https://www.techtarget.com/whatis/definition/Confidentiality-integrity-and-availability-CIA\n",
    "<br>\n",
    "[4.] https://iapp.org/news/a/privacy-and-responsible-ai/"
   ]
  },
  {
   "cell_type": "code",
   "execution_count": null,
   "metadata": {},
   "outputs": [],
   "source": []
  }
 ],
 "metadata": {
  "kernelspec": {
   "display_name": "Python 3",
   "language": "python",
   "name": "python3"
  },
  "language_info": {
   "codemirror_mode": {
    "name": "ipython",
    "version": 3
   },
   "file_extension": ".py",
   "mimetype": "text/x-python",
   "name": "python",
   "nbconvert_exporter": "python",
   "pygments_lexer": "ipython3",
   "version": "3.7.4"
  }
 },
 "nbformat": 4,
 "nbformat_minor": 5
}
